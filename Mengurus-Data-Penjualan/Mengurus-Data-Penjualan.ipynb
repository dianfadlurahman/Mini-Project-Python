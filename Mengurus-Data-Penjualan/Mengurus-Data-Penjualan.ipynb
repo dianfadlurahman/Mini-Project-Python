{
 "cells": [
  {
   "cell_type": "markdown",
   "id": "1a84114e",
   "metadata": {},
   "source": [
    "Mengurus beberapa data penjualan dari dataset order.csv.\n",
    "Detailnya yaitu seperti berikut.\n",
    "1. Tentukan median 'price' yang dibayar customer dari masing-masing metode pembayaran.\n",
    "2. Ubahlah 'freight_value' menjadi 'shipping_cost' dan tentukan 'shipping_cost' termahal dari data penjualan tersebut menggunakan sort.\n",
    "3. Untuk setiap 'product_category_name', cari tahu rata-rata weight produk tersebut. Standar deviasi mana yang terkecil dari weight tersebut?\n",
    "4. Tampilkan histogram 'quantity' penjualan dari dataset tersebut untuk melihat persebaran 'quantity' penjualan dengan bins= 5 dan figsize = (4, 5)."
   ]
  },
  {
   "cell_type": "markdown",
   "id": "6df76a80",
   "metadata": {},
   "source": [
    "#### Memanggil library di Python"
   ]
  },
  {
   "cell_type": "code",
   "execution_count": 1,
   "id": "73278aeb",
   "metadata": {},
   "outputs": [],
   "source": [
    "import pandas as pd"
   ]
  },
  {
   "cell_type": "markdown",
   "id": "48ac039e",
   "metadata": {},
   "source": [
    "#### Membaca file CSV sebagai data frame"
   ]
  },
  {
   "cell_type": "code",
   "execution_count": 2,
   "id": "50690dcc",
   "metadata": {},
   "outputs": [],
   "source": [
    "order = pd.read_csv('order.csv')"
   ]
  },
  {
   "cell_type": "markdown",
   "id": "2424e78b",
   "metadata": {},
   "source": [
    "#### Memahami dataset"
   ]
  },
  {
   "cell_type": "code",
   "execution_count": 3,
   "id": "642ae947",
   "metadata": {},
   "outputs": [
    {
     "data": {
      "text/plain": [
       "(49999, 12)"
      ]
     },
     "execution_count": 3,
     "metadata": {},
     "output_type": "execute_result"
    }
   ],
   "source": [
    "order.shape"
   ]
  },
  {
   "cell_type": "markdown",
   "id": "91951bf6",
   "metadata": {},
   "source": [
    "Dataset terdiri dari 49999 baris dan 12 kolom."
   ]
  },
  {
   "cell_type": "markdown",
   "id": "18390b04",
   "metadata": {},
   "source": [
    "Menampilkan nama kolom dari dataset."
   ]
  },
  {
   "cell_type": "code",
   "execution_count": 4,
   "id": "62d51526",
   "metadata": {},
   "outputs": [
    {
     "data": {
      "text/plain": [
       "array(['order_id', 'quantity', 'product_id', 'price', 'seller_id',\n",
       "       'freight_value', 'customer_id', 'order_status', 'purchase_date',\n",
       "       'payment_type', 'product_category_name', 'product_weight_gram'],\n",
       "      dtype=object)"
      ]
     },
     "execution_count": 4,
     "metadata": {},
     "output_type": "execute_result"
    }
   ],
   "source": [
    "order.columns.values"
   ]
  },
  {
   "cell_type": "markdown",
   "id": "e9113d08",
   "metadata": {},
   "source": [
    "Melihat preview data."
   ]
  },
  {
   "cell_type": "code",
   "execution_count": 5,
   "id": "ea2cfabe",
   "metadata": {},
   "outputs": [
    {
     "data": {
      "text/html": [
       "<div>\n",
       "<style scoped>\n",
       "    .dataframe tbody tr th:only-of-type {\n",
       "        vertical-align: middle;\n",
       "    }\n",
       "\n",
       "    .dataframe tbody tr th {\n",
       "        vertical-align: top;\n",
       "    }\n",
       "\n",
       "    .dataframe thead th {\n",
       "        text-align: right;\n",
       "    }\n",
       "</style>\n",
       "<table border=\"1\" class=\"dataframe\">\n",
       "  <thead>\n",
       "    <tr style=\"text-align: right;\">\n",
       "      <th></th>\n",
       "      <th>order_id</th>\n",
       "      <th>quantity</th>\n",
       "      <th>product_id</th>\n",
       "      <th>price</th>\n",
       "      <th>seller_id</th>\n",
       "      <th>freight_value</th>\n",
       "      <th>customer_id</th>\n",
       "      <th>order_status</th>\n",
       "      <th>purchase_date</th>\n",
       "      <th>payment_type</th>\n",
       "      <th>product_category_name</th>\n",
       "      <th>product_weight_gram</th>\n",
       "    </tr>\n",
       "  </thead>\n",
       "  <tbody>\n",
       "    <tr>\n",
       "      <th>0</th>\n",
       "      <td>2e7a8482f6fb09756ca50c10d7bfc047</td>\n",
       "      <td>2</td>\n",
       "      <td>f293394c72c9b5fafd7023301fc21fc2</td>\n",
       "      <td>1489000</td>\n",
       "      <td>1554a68530182680ad5c8b042c3ab563</td>\n",
       "      <td>28000</td>\n",
       "      <td>08c5351a6aca1c1589a38f244edeee9d</td>\n",
       "      <td>shipped</td>\n",
       "      <td>2016-09-05</td>\n",
       "      <td>virtual account</td>\n",
       "      <td>fashion</td>\n",
       "      <td>1800.0</td>\n",
       "    </tr>\n",
       "    <tr>\n",
       "      <th>1</th>\n",
       "      <td>2e7a8482f6fb09756ca50c10d7bfc047</td>\n",
       "      <td>1</td>\n",
       "      <td>c1488892604e4ba5cff5b4eb4d595400</td>\n",
       "      <td>1756000</td>\n",
       "      <td>1554a68530182680ad5c8b042c3ab563</td>\n",
       "      <td>45000</td>\n",
       "      <td>08c5351a6aca1c1589a38f244edeee9d</td>\n",
       "      <td>shipped</td>\n",
       "      <td>2016-09-05</td>\n",
       "      <td>virtual account</td>\n",
       "      <td>automotive</td>\n",
       "      <td>1400.0</td>\n",
       "    </tr>\n",
       "    <tr>\n",
       "      <th>2</th>\n",
       "      <td>e5fa5a7210941f7d56d0208e4e071d35</td>\n",
       "      <td>1</td>\n",
       "      <td>f3c2d01a84c947b078e32bbef0718962</td>\n",
       "      <td>1707000</td>\n",
       "      <td>a425f92c199eb576938df686728acd20</td>\n",
       "      <td>174000</td>\n",
       "      <td>683c54fc24d40ee9f8a6fc179fd9856c</td>\n",
       "      <td>canceled</td>\n",
       "      <td>2016-09-05</td>\n",
       "      <td>e-wallet</td>\n",
       "      <td>toys</td>\n",
       "      <td>700.0</td>\n",
       "    </tr>\n",
       "    <tr>\n",
       "      <th>3</th>\n",
       "      <td>3b697a20d9e427646d92567910af6d57</td>\n",
       "      <td>1</td>\n",
       "      <td>3ae08df6bcbfe23586dd431c40bddbb7</td>\n",
       "      <td>3071000</td>\n",
       "      <td>522620dcb18a6b31cd7bdf73665113a9</td>\n",
       "      <td>154000</td>\n",
       "      <td>355077684019f7f60a031656bd7262b8</td>\n",
       "      <td>delivered</td>\n",
       "      <td>2016-10-03</td>\n",
       "      <td>e-wallet</td>\n",
       "      <td>utilities</td>\n",
       "      <td>300.0</td>\n",
       "    </tr>\n",
       "    <tr>\n",
       "      <th>4</th>\n",
       "      <td>71303d7e93b399f5bcd537d124c0bcfa</td>\n",
       "      <td>1</td>\n",
       "      <td>d2998d7ced12f83f9b832f33cf6507b6</td>\n",
       "      <td>3833000</td>\n",
       "      <td>25e6ffe976bd75618accfe16cefcbd0d</td>\n",
       "      <td>147000</td>\n",
       "      <td>b106b360fe2ef8849fbbd056f777b4d5</td>\n",
       "      <td>canceled</td>\n",
       "      <td>2016-10-03</td>\n",
       "      <td>e-wallet</td>\n",
       "      <td>fashion</td>\n",
       "      <td>500.0</td>\n",
       "    </tr>\n",
       "  </tbody>\n",
       "</table>\n",
       "</div>"
      ],
      "text/plain": [
       "                           order_id  quantity  \\\n",
       "0  2e7a8482f6fb09756ca50c10d7bfc047         2   \n",
       "1  2e7a8482f6fb09756ca50c10d7bfc047         1   \n",
       "2  e5fa5a7210941f7d56d0208e4e071d35         1   \n",
       "3  3b697a20d9e427646d92567910af6d57         1   \n",
       "4  71303d7e93b399f5bcd537d124c0bcfa         1   \n",
       "\n",
       "                         product_id    price  \\\n",
       "0  f293394c72c9b5fafd7023301fc21fc2  1489000   \n",
       "1  c1488892604e4ba5cff5b4eb4d595400  1756000   \n",
       "2  f3c2d01a84c947b078e32bbef0718962  1707000   \n",
       "3  3ae08df6bcbfe23586dd431c40bddbb7  3071000   \n",
       "4  d2998d7ced12f83f9b832f33cf6507b6  3833000   \n",
       "\n",
       "                          seller_id  freight_value  \\\n",
       "0  1554a68530182680ad5c8b042c3ab563          28000   \n",
       "1  1554a68530182680ad5c8b042c3ab563          45000   \n",
       "2  a425f92c199eb576938df686728acd20         174000   \n",
       "3  522620dcb18a6b31cd7bdf73665113a9         154000   \n",
       "4  25e6ffe976bd75618accfe16cefcbd0d         147000   \n",
       "\n",
       "                        customer_id order_status purchase_date  \\\n",
       "0  08c5351a6aca1c1589a38f244edeee9d      shipped    2016-09-05   \n",
       "1  08c5351a6aca1c1589a38f244edeee9d      shipped    2016-09-05   \n",
       "2  683c54fc24d40ee9f8a6fc179fd9856c     canceled    2016-09-05   \n",
       "3  355077684019f7f60a031656bd7262b8    delivered    2016-10-03   \n",
       "4  b106b360fe2ef8849fbbd056f777b4d5     canceled    2016-10-03   \n",
       "\n",
       "      payment_type product_category_name  product_weight_gram  \n",
       "0  virtual account               fashion               1800.0  \n",
       "1  virtual account            automotive               1400.0  \n",
       "2         e-wallet                  toys                700.0  \n",
       "3         e-wallet             utilities                300.0  \n",
       "4         e-wallet               fashion                500.0  "
      ]
     },
     "execution_count": 5,
     "metadata": {},
     "output_type": "execute_result"
    }
   ],
   "source": [
    "order.head()"
   ]
  },
  {
   "cell_type": "markdown",
   "id": "9add401b",
   "metadata": {},
   "source": [
    "# "
   ]
  },
  {
   "cell_type": "markdown",
   "id": "9c4fd2de",
   "metadata": {},
   "source": [
    "1. Tentukan median 'price' yang dibayar customer dari masing-masing metode pembayaran."
   ]
  },
  {
   "cell_type": "markdown",
   "id": "f9ff3d83",
   "metadata": {},
   "source": [
    "Median 'price' yang dibayar customer dari masing-masing metode pembayaran yaitu seperti berikut."
   ]
  },
  {
   "cell_type": "code",
   "execution_count": 6,
   "id": "e5ea3fe5",
   "metadata": {},
   "outputs": [
    {
     "data": {
      "text/plain": [
       "payment_type\n",
       "credit card        2587500.0\n",
       "debit card         2621500.0\n",
       "e-wallet           2589000.0\n",
       "virtual account    2643000.0\n",
       "Name: price, dtype: float64"
      ]
     },
     "execution_count": 6,
     "metadata": {},
     "output_type": "execute_result"
    }
   ],
   "source": [
    "order['price'].groupby(order['payment_type']).median()"
   ]
  },
  {
   "cell_type": "markdown",
   "id": "d58390e2",
   "metadata": {},
   "source": [
    "# "
   ]
  },
  {
   "cell_type": "markdown",
   "id": "548a6940",
   "metadata": {},
   "source": [
    "2. Ubahl 'freight_value' menjadi 'shipping_cost' dan tentukan 'shipping_cost' termahal dari data penjualan tersebut menggunakan sort."
   ]
  },
  {
   "cell_type": "code",
   "execution_count": 7,
   "id": "029c0489",
   "metadata": {},
   "outputs": [
    {
     "data": {
      "text/html": [
       "<div>\n",
       "<style scoped>\n",
       "    .dataframe tbody tr th:only-of-type {\n",
       "        vertical-align: middle;\n",
       "    }\n",
       "\n",
       "    .dataframe tbody tr th {\n",
       "        vertical-align: top;\n",
       "    }\n",
       "\n",
       "    .dataframe thead th {\n",
       "        text-align: right;\n",
       "    }\n",
       "</style>\n",
       "<table border=\"1\" class=\"dataframe\">\n",
       "  <thead>\n",
       "    <tr style=\"text-align: right;\">\n",
       "      <th></th>\n",
       "      <th>order_id</th>\n",
       "      <th>quantity</th>\n",
       "      <th>product_id</th>\n",
       "      <th>price</th>\n",
       "      <th>seller_id</th>\n",
       "      <th>shipping_cost</th>\n",
       "      <th>customer_id</th>\n",
       "      <th>order_status</th>\n",
       "      <th>purchase_date</th>\n",
       "      <th>payment_type</th>\n",
       "      <th>product_category_name</th>\n",
       "      <th>product_weight_gram</th>\n",
       "    </tr>\n",
       "  </thead>\n",
       "  <tbody>\n",
       "    <tr>\n",
       "      <th>23829</th>\n",
       "      <td>7d63cb1d349e7bd0ee1edcc61ea71077</td>\n",
       "      <td>1</td>\n",
       "      <td>75d6b6963340c6063f7f4cfcccfe6a30</td>\n",
       "      <td>1472000</td>\n",
       "      <td>cc419e0650a3c5ba77189a1882b7556a</td>\n",
       "      <td>200000</td>\n",
       "      <td>484711e3d14ac75fb874e949b3a28395</td>\n",
       "      <td>delivered</td>\n",
       "      <td>2017-08-14</td>\n",
       "      <td>credit card</td>\n",
       "      <td>gadget</td>\n",
       "      <td>400.0</td>\n",
       "    </tr>\n",
       "    <tr>\n",
       "      <th>12011</th>\n",
       "      <td>00c9f7d4b0e87781465e562dc109f6aa</td>\n",
       "      <td>1</td>\n",
       "      <td>1a0d662b65b5ef08796501b064c853af</td>\n",
       "      <td>4543000</td>\n",
       "      <td>2e0dba2da448400b1c11d7b4b22f32a4</td>\n",
       "      <td>200000</td>\n",
       "      <td>cea80f9af87104810bd7fa9698f69d29</td>\n",
       "      <td>delivered</td>\n",
       "      <td>2017-05-22</td>\n",
       "      <td>e-wallet</td>\n",
       "      <td>toys</td>\n",
       "      <td>900.0</td>\n",
       "    </tr>\n",
       "    <tr>\n",
       "      <th>10984</th>\n",
       "      <td>69013d19f8db4cd7dc9f3b5c2564a96f</td>\n",
       "      <td>1</td>\n",
       "      <td>10d196ec072e2d8382c7ec9c942d7ea8</td>\n",
       "      <td>4137000</td>\n",
       "      <td>d12c926d74ceff0a90a21184466ce161</td>\n",
       "      <td>200000</td>\n",
       "      <td>9cf423929ed7f738fd0a0e88607a79fd</td>\n",
       "      <td>delivered</td>\n",
       "      <td>2017-05-15</td>\n",
       "      <td>credit card</td>\n",
       "      <td>utilities</td>\n",
       "      <td>250.0</td>\n",
       "    </tr>\n",
       "    <tr>\n",
       "      <th>29722</th>\n",
       "      <td>f32c4d2b078bc5a354f4c1184522b5ff</td>\n",
       "      <td>1</td>\n",
       "      <td>0f789be671fe3bd93cabfbb4a710f282</td>\n",
       "      <td>4802000</td>\n",
       "      <td>259f7b5e6e482c230e5bfaa670b6bb8f</td>\n",
       "      <td>200000</td>\n",
       "      <td>5a1523d32a6d1b323a05895f5164655d</td>\n",
       "      <td>delivered</td>\n",
       "      <td>2017-09-18</td>\n",
       "      <td>credit card</td>\n",
       "      <td>toys</td>\n",
       "      <td>450.0</td>\n",
       "    </tr>\n",
       "    <tr>\n",
       "      <th>15259</th>\n",
       "      <td>c8eab0ccabe8cdfc2afce66c1c554ae2</td>\n",
       "      <td>1</td>\n",
       "      <td>800f75019492a0d9ffb2483ae65b59f1</td>\n",
       "      <td>4078000</td>\n",
       "      <td>efcd8d2104f1a05d028af7bad20d974b</td>\n",
       "      <td>200000</td>\n",
       "      <td>2339ab3abbeebe72f2782a01c87a9bc0</td>\n",
       "      <td>delivered</td>\n",
       "      <td>2017-06-14</td>\n",
       "      <td>debit card</td>\n",
       "      <td>sports</td>\n",
       "      <td>100.0</td>\n",
       "    </tr>\n",
       "    <tr>\n",
       "      <th>...</th>\n",
       "      <td>...</td>\n",
       "      <td>...</td>\n",
       "      <td>...</td>\n",
       "      <td>...</td>\n",
       "      <td>...</td>\n",
       "      <td>...</td>\n",
       "      <td>...</td>\n",
       "      <td>...</td>\n",
       "      <td>...</td>\n",
       "      <td>...</td>\n",
       "      <td>...</td>\n",
       "      <td>...</td>\n",
       "    </tr>\n",
       "    <tr>\n",
       "      <th>2891</th>\n",
       "      <td>1d0e8770169496e47622b6cbc0d10bda</td>\n",
       "      <td>1</td>\n",
       "      <td>3fc0f58c51fcd02161542e0320c4dbe7</td>\n",
       "      <td>4135000</td>\n",
       "      <td>82e0a475a88cc9595229d8029273f045</td>\n",
       "      <td>9000</td>\n",
       "      <td>e3cfff24939005d30dd3a046848227d6</td>\n",
       "      <td>delivered</td>\n",
       "      <td>2017-02-22</td>\n",
       "      <td>debit card</td>\n",
       "      <td>fashion</td>\n",
       "      <td>900.0</td>\n",
       "    </tr>\n",
       "    <tr>\n",
       "      <th>36815</th>\n",
       "      <td>4bff82a994068f564e54b52b08ef4512</td>\n",
       "      <td>2</td>\n",
       "      <td>24d8da2d499efba175b1092826b7e390</td>\n",
       "      <td>2879000</td>\n",
       "      <td>d12c926d74ceff0a90a21184466ce161</td>\n",
       "      <td>9000</td>\n",
       "      <td>2e998a151ac7a977d4a7e806346e0092</td>\n",
       "      <td>delivered</td>\n",
       "      <td>2017-10-30</td>\n",
       "      <td>e-wallet</td>\n",
       "      <td>fashion</td>\n",
       "      <td>150.0</td>\n",
       "    </tr>\n",
       "    <tr>\n",
       "      <th>8175</th>\n",
       "      <td>e6b1fa22555c3064f984ebeb8a88de77</td>\n",
       "      <td>1</td>\n",
       "      <td>6fd82d8f842424334fedf31190e54d24</td>\n",
       "      <td>2947000</td>\n",
       "      <td>6560211a19b47992c3666cc44a7e94c0</td>\n",
       "      <td>9000</td>\n",
       "      <td>02d6ca625564571402a933db8fe814f0</td>\n",
       "      <td>delivered</td>\n",
       "      <td>2017-04-21</td>\n",
       "      <td>virtual account</td>\n",
       "      <td>electronics</td>\n",
       "      <td>250.0</td>\n",
       "    </tr>\n",
       "    <tr>\n",
       "      <th>4034</th>\n",
       "      <td>8ac2728285fd4228f35d907768b5288a</td>\n",
       "      <td>4</td>\n",
       "      <td>fa94f25a73969e3a25d52706e246dfcc</td>\n",
       "      <td>967000</td>\n",
       "      <td>004c9cd9d87a3c30c522c48c4fc07416</td>\n",
       "      <td>9000</td>\n",
       "      <td>6b5e281c1563241783deb3a2636daa28</td>\n",
       "      <td>delivered</td>\n",
       "      <td>2017-03-08</td>\n",
       "      <td>virtual account</td>\n",
       "      <td>fashion</td>\n",
       "      <td>1700.0</td>\n",
       "    </tr>\n",
       "    <tr>\n",
       "      <th>32994</th>\n",
       "      <td>0286e258217733541e80588e29c208c1</td>\n",
       "      <td>1</td>\n",
       "      <td>3c4223262d31fa35043380da246fb0fa</td>\n",
       "      <td>3337000</td>\n",
       "      <td>cb3dd9ce66268c7a3ca7241ac70ab58c</td>\n",
       "      <td>9000</td>\n",
       "      <td>010583f85dd55d32a6db1068f58ca6f1</td>\n",
       "      <td>delivered</td>\n",
       "      <td>2017-10-09</td>\n",
       "      <td>virtual account</td>\n",
       "      <td>utilities</td>\n",
       "      <td>700.0</td>\n",
       "    </tr>\n",
       "  </tbody>\n",
       "</table>\n",
       "<p>49999 rows × 12 columns</p>\n",
       "</div>"
      ],
      "text/plain": [
       "                               order_id  quantity  \\\n",
       "23829  7d63cb1d349e7bd0ee1edcc61ea71077         1   \n",
       "12011  00c9f7d4b0e87781465e562dc109f6aa         1   \n",
       "10984  69013d19f8db4cd7dc9f3b5c2564a96f         1   \n",
       "29722  f32c4d2b078bc5a354f4c1184522b5ff         1   \n",
       "15259  c8eab0ccabe8cdfc2afce66c1c554ae2         1   \n",
       "...                                 ...       ...   \n",
       "2891   1d0e8770169496e47622b6cbc0d10bda         1   \n",
       "36815  4bff82a994068f564e54b52b08ef4512         2   \n",
       "8175   e6b1fa22555c3064f984ebeb8a88de77         1   \n",
       "4034   8ac2728285fd4228f35d907768b5288a         4   \n",
       "32994  0286e258217733541e80588e29c208c1         1   \n",
       "\n",
       "                             product_id    price  \\\n",
       "23829  75d6b6963340c6063f7f4cfcccfe6a30  1472000   \n",
       "12011  1a0d662b65b5ef08796501b064c853af  4543000   \n",
       "10984  10d196ec072e2d8382c7ec9c942d7ea8  4137000   \n",
       "29722  0f789be671fe3bd93cabfbb4a710f282  4802000   \n",
       "15259  800f75019492a0d9ffb2483ae65b59f1  4078000   \n",
       "...                                 ...      ...   \n",
       "2891   3fc0f58c51fcd02161542e0320c4dbe7  4135000   \n",
       "36815  24d8da2d499efba175b1092826b7e390  2879000   \n",
       "8175   6fd82d8f842424334fedf31190e54d24  2947000   \n",
       "4034   fa94f25a73969e3a25d52706e246dfcc   967000   \n",
       "32994  3c4223262d31fa35043380da246fb0fa  3337000   \n",
       "\n",
       "                              seller_id  shipping_cost  \\\n",
       "23829  cc419e0650a3c5ba77189a1882b7556a         200000   \n",
       "12011  2e0dba2da448400b1c11d7b4b22f32a4         200000   \n",
       "10984  d12c926d74ceff0a90a21184466ce161         200000   \n",
       "29722  259f7b5e6e482c230e5bfaa670b6bb8f         200000   \n",
       "15259  efcd8d2104f1a05d028af7bad20d974b         200000   \n",
       "...                                 ...            ...   \n",
       "2891   82e0a475a88cc9595229d8029273f045           9000   \n",
       "36815  d12c926d74ceff0a90a21184466ce161           9000   \n",
       "8175   6560211a19b47992c3666cc44a7e94c0           9000   \n",
       "4034   004c9cd9d87a3c30c522c48c4fc07416           9000   \n",
       "32994  cb3dd9ce66268c7a3ca7241ac70ab58c           9000   \n",
       "\n",
       "                            customer_id order_status purchase_date  \\\n",
       "23829  484711e3d14ac75fb874e949b3a28395    delivered    2017-08-14   \n",
       "12011  cea80f9af87104810bd7fa9698f69d29    delivered    2017-05-22   \n",
       "10984  9cf423929ed7f738fd0a0e88607a79fd    delivered    2017-05-15   \n",
       "29722  5a1523d32a6d1b323a05895f5164655d    delivered    2017-09-18   \n",
       "15259  2339ab3abbeebe72f2782a01c87a9bc0    delivered    2017-06-14   \n",
       "...                                 ...          ...           ...   \n",
       "2891   e3cfff24939005d30dd3a046848227d6    delivered    2017-02-22   \n",
       "36815  2e998a151ac7a977d4a7e806346e0092    delivered    2017-10-30   \n",
       "8175   02d6ca625564571402a933db8fe814f0    delivered    2017-04-21   \n",
       "4034   6b5e281c1563241783deb3a2636daa28    delivered    2017-03-08   \n",
       "32994  010583f85dd55d32a6db1068f58ca6f1    delivered    2017-10-09   \n",
       "\n",
       "          payment_type product_category_name  product_weight_gram  \n",
       "23829      credit card                gadget                400.0  \n",
       "12011         e-wallet                  toys                900.0  \n",
       "10984      credit card             utilities                250.0  \n",
       "29722      credit card                  toys                450.0  \n",
       "15259       debit card                sports                100.0  \n",
       "...                ...                   ...                  ...  \n",
       "2891        debit card               fashion                900.0  \n",
       "36815         e-wallet               fashion                150.0  \n",
       "8175   virtual account           electronics                250.0  \n",
       "4034   virtual account               fashion               1700.0  \n",
       "32994  virtual account             utilities                700.0  \n",
       "\n",
       "[49999 rows x 12 columns]"
      ]
     },
     "execution_count": 7,
     "metadata": {},
     "output_type": "execute_result"
    }
   ],
   "source": [
    "order.rename(columns = {'freight_value': 'shipping_cost'}, inplace = True)\n",
    "order.sort_values(by = 'shipping_cost', ascending = False)"
   ]
  },
  {
   "cell_type": "markdown",
   "id": "a0152498",
   "metadata": {},
   "source": [
    "'shipping_cost' termahal dari data penjualan tersebut yaitu 200000."
   ]
  },
  {
   "cell_type": "markdown",
   "id": "6aa5257f",
   "metadata": {},
   "source": [
    "# "
   ]
  },
  {
   "cell_type": "markdown",
   "id": "612cd851",
   "metadata": {},
   "source": [
    "3. Untuk setiap 'product_category_name', cari tahu rata-rata weight produk tersebut. Standar deviasi mana yang terkecil dari weight tersebut?"
   ]
  },
  {
   "cell_type": "markdown",
   "id": "525c3f9c",
   "metadata": {},
   "source": [
    "Rata-rata weight produk untuk setiap 'product_category_name' yaitu seperti berikut."
   ]
  },
  {
   "cell_type": "code",
   "execution_count": 8,
   "id": "c430c9e9",
   "metadata": {},
   "outputs": [
    {
     "data": {
      "text/plain": [
       "product_category_name\n",
       "automotive     2129.559039\n",
       "beauty         2120.088396\n",
       "electronics    2144.751191\n",
       "fashion        2246.516901\n",
       "gadget         2229.632942\n",
       "sports         2251.879909\n",
       "toys           2203.863643\n",
       "utilities      2291.029868\n",
       "Name: product_weight_gram, dtype: float64"
      ]
     },
     "execution_count": 8,
     "metadata": {},
     "output_type": "execute_result"
    }
   ],
   "source": [
    "order['product_weight_gram'].groupby(order['product_category_name']).mean()"
   ]
  },
  {
   "cell_type": "code",
   "execution_count": 9,
   "id": "41583fa5",
   "metadata": {
    "scrolled": true
   },
   "outputs": [
    {
     "data": {
      "text/plain": [
       "product_category_name\n",
       "automotive     3799.884166\n",
       "beauty         3837.474929\n",
       "electronics    3839.271768\n",
       "fashion        3858.885213\n",
       "gadget         3955.792741\n",
       "toys           3956.814749\n",
       "sports         4032.850044\n",
       "utilities      4150.509909\n",
       "Name: product_weight_gram, dtype: float64"
      ]
     },
     "execution_count": 9,
     "metadata": {},
     "output_type": "execute_result"
    }
   ],
   "source": [
    "order['product_weight_gram'].groupby(order['product_category_name']).std().sort_values()"
   ]
  },
  {
   "cell_type": "markdown",
   "id": "34d12135",
   "metadata": {},
   "source": [
    "Automotive memiliki standar deviasi terkecil dari weight yaitu 3799.884166."
   ]
  },
  {
   "cell_type": "markdown",
   "id": "0f687ab6",
   "metadata": {},
   "source": [
    " # "
   ]
  },
  {
   "cell_type": "markdown",
   "id": "d15a7d0e",
   "metadata": {},
   "source": [
    "4. Tampilkan histogram 'quantity' penjualan dari dataset tersebut untuk melihat persebaran 'quantity' penjualan dengan bins = 5 dan figsize = (4, 5)."
   ]
  },
  {
   "cell_type": "markdown",
   "id": "531cefa1",
   "metadata": {},
   "source": [
    "Berikut merupakan histogram dari 'quantity' penjualan."
   ]
  },
  {
   "cell_type": "code",
   "execution_count": 10,
   "id": "e535aaf2",
   "metadata": {},
   "outputs": [
    {
     "data": {
      "text/plain": [
       "<AxesSubplot: ylabel='Frequency'>"
      ]
     },
     "execution_count": 10,
     "metadata": {},
     "output_type": "execute_result"
    },
    {
     "data": {
      "image/png": "[encoded data removed]",
      "text/plain": [
       "<Figure size 400x500 with 1 Axes>"
      ]
     },
     "metadata": {},
     "output_type": "display_data"
    }
   ],
   "source": [
    "order['quantity'].plot(figsize = (4, 5), kind = 'hist', bins = 5)"
   ]
  },
  {
   "cell_type": "code",
   "execution_count": null,
   "id": "b1b51692",
   "metadata": {},
   "outputs": [],
   "source": []
  }
 ],
 "metadata": {
  "kernelspec": {
   "display_name": "Python 3 (ipykernel)",
   "language": "python",
   "name": "python3"
  },
  "language_info": {
   "codemirror_mode": {
    "name": "ipython",
    "version": 3
   },
   "file_extension": ".py",
   "mimetype": "text/x-python",
   "name": "python",
   "nbconvert_exporter": "python",
   "pygments_lexer": "ipython3",
   "version": "3.10.7"
  }
 },
 "nbformat": 4,
 "nbformat_minor": 5
}
