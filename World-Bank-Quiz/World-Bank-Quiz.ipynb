{
 "cells": [
  {
   "cell_type": "markdown",
   "id": "d152317e",
   "metadata": {},
   "source": [
    "Explore dataset `World-Bank-Quiz.csv` dan jawab pertanyaan-pertanyaan yang diberikan."
   ]
  },
  {
   "cell_type": "markdown",
   "id": "007fd674",
   "metadata": {},
   "source": [
    "# Memanggil library di Python"
   ]
  },
  {
   "cell_type": "code",
   "execution_count": 1,
   "id": "216170cf",
   "metadata": {},
   "outputs": [],
   "source": [
    "import pandas as pd"
   ]
  },
  {
   "cell_type": "markdown",
   "id": "79079955",
   "metadata": {},
   "source": [
    "# Membaca file CSV sebagai data frame"
   ]
  },
  {
   "cell_type": "code",
   "execution_count": 2,
   "id": "749e58c5",
   "metadata": {},
   "outputs": [],
   "source": [
    "world = pd.read_csv('World-Bank-Quiz.csv')"
   ]
  },
  {
   "cell_type": "markdown",
   "id": "019b33fa",
   "metadata": {},
   "source": [
    "# Memahami data frame"
   ]
  },
  {
   "cell_type": "code",
   "execution_count": 3,
   "id": "1124b1ee",
   "metadata": {},
   "outputs": [
    {
     "data": {
      "text/plain": [
       "(117306, 67)"
      ]
     },
     "execution_count": 3,
     "metadata": {},
     "output_type": "execute_result"
    }
   ],
   "source": [
    "world.shape"
   ]
  },
  {
   "cell_type": "markdown",
   "id": "347ce034",
   "metadata": {},
   "source": [
    "`world` terdiri dari 117306 baris dan 67 kolom."
   ]
  },
  {
   "cell_type": "markdown",
   "id": "5fcdac7a",
   "metadata": {},
   "source": [
    "Melihat preview `world`."
   ]
  },
  {
   "cell_type": "code",
   "execution_count": 4,
   "id": "ce21a7e0",
   "metadata": {},
   "outputs": [
    {
     "data": {
      "text/html": [
       "<div>\n",
       "<style scoped>\n",
       "    .dataframe tbody tr th:only-of-type {\n",
       "        vertical-align: middle;\n",
       "    }\n",
       "\n",
       "    .dataframe tbody tr th {\n",
       "        vertical-align: top;\n",
       "    }\n",
       "\n",
       "    .dataframe thead th {\n",
       "        text-align: right;\n",
       "    }\n",
       "</style>\n",
       "<table border=\"1\" class=\"dataframe\">\n",
       "  <thead>\n",
       "    <tr style=\"text-align: right;\">\n",
       "      <th></th>\n",
       "      <th>Country Name</th>\n",
       "      <th>Country Code</th>\n",
       "      <th>Indicator Name</th>\n",
       "      <th>Indicator Code</th>\n",
       "      <th>1960</th>\n",
       "      <th>1961</th>\n",
       "      <th>1962</th>\n",
       "      <th>1963</th>\n",
       "      <th>1964</th>\n",
       "      <th>1965</th>\n",
       "      <th>...</th>\n",
       "      <th>2013</th>\n",
       "      <th>2014</th>\n",
       "      <th>2015</th>\n",
       "      <th>2016</th>\n",
       "      <th>2017</th>\n",
       "      <th>2018</th>\n",
       "      <th>2019</th>\n",
       "      <th>2020</th>\n",
       "      <th>2021</th>\n",
       "      <th>Unnamed: 66</th>\n",
       "    </tr>\n",
       "  </thead>\n",
       "  <tbody>\n",
       "    <tr>\n",
       "      <th>0</th>\n",
       "      <td>Africa Eastern and Southern</td>\n",
       "      <td>AFE</td>\n",
       "      <td>Adolescent fertility rate (births per 1,000 wo...</td>\n",
       "      <td>SP.ADO.TFRT</td>\n",
       "      <td>140.120535</td>\n",
       "      <td>140.594564</td>\n",
       "      <td>141.128109</td>\n",
       "      <td>141.32344</td>\n",
       "      <td>141.50816</td>\n",
       "      <td>141.668896</td>\n",
       "      <td>...</td>\n",
       "      <td>103.391461</td>\n",
       "      <td>101.541782</td>\n",
       "      <td>99.719799</td>\n",
       "      <td>97.916601</td>\n",
       "      <td>96.146492</td>\n",
       "      <td>94.695223</td>\n",
       "      <td>93.231944</td>\n",
       "      <td>NaN</td>\n",
       "      <td>NaN</td>\n",
       "      <td>NaN</td>\n",
       "    </tr>\n",
       "    <tr>\n",
       "      <th>1</th>\n",
       "      <td>Africa Eastern and Southern</td>\n",
       "      <td>AFE</td>\n",
       "      <td>Adults (ages 15+) and children (0-14 years) li...</td>\n",
       "      <td>SH.HIV.TOTL</td>\n",
       "      <td>NaN</td>\n",
       "      <td>NaN</td>\n",
       "      <td>NaN</td>\n",
       "      <td>NaN</td>\n",
       "      <td>NaN</td>\n",
       "      <td>NaN</td>\n",
       "      <td>...</td>\n",
       "      <td>NaN</td>\n",
       "      <td>NaN</td>\n",
       "      <td>NaN</td>\n",
       "      <td>NaN</td>\n",
       "      <td>NaN</td>\n",
       "      <td>NaN</td>\n",
       "      <td>NaN</td>\n",
       "      <td>NaN</td>\n",
       "      <td>NaN</td>\n",
       "      <td>NaN</td>\n",
       "    </tr>\n",
       "    <tr>\n",
       "      <th>2</th>\n",
       "      <td>Africa Eastern and Southern</td>\n",
       "      <td>AFE</td>\n",
       "      <td>Adults (ages 15+) and children (ages 0-14) new...</td>\n",
       "      <td>SH.HIV.INCD.TL</td>\n",
       "      <td>NaN</td>\n",
       "      <td>NaN</td>\n",
       "      <td>NaN</td>\n",
       "      <td>NaN</td>\n",
       "      <td>NaN</td>\n",
       "      <td>NaN</td>\n",
       "      <td>...</td>\n",
       "      <td>NaN</td>\n",
       "      <td>NaN</td>\n",
       "      <td>NaN</td>\n",
       "      <td>NaN</td>\n",
       "      <td>NaN</td>\n",
       "      <td>NaN</td>\n",
       "      <td>NaN</td>\n",
       "      <td>NaN</td>\n",
       "      <td>NaN</td>\n",
       "      <td>NaN</td>\n",
       "    </tr>\n",
       "    <tr>\n",
       "      <th>3</th>\n",
       "      <td>Africa Eastern and Southern</td>\n",
       "      <td>AFE</td>\n",
       "      <td>Adults (ages 15+) living with HIV</td>\n",
       "      <td>SH.DYN.AIDS</td>\n",
       "      <td>NaN</td>\n",
       "      <td>NaN</td>\n",
       "      <td>NaN</td>\n",
       "      <td>NaN</td>\n",
       "      <td>NaN</td>\n",
       "      <td>NaN</td>\n",
       "      <td>...</td>\n",
       "      <td>NaN</td>\n",
       "      <td>NaN</td>\n",
       "      <td>NaN</td>\n",
       "      <td>NaN</td>\n",
       "      <td>NaN</td>\n",
       "      <td>NaN</td>\n",
       "      <td>NaN</td>\n",
       "      <td>NaN</td>\n",
       "      <td>NaN</td>\n",
       "      <td>NaN</td>\n",
       "    </tr>\n",
       "    <tr>\n",
       "      <th>4</th>\n",
       "      <td>Africa Eastern and Southern</td>\n",
       "      <td>AFE</td>\n",
       "      <td>Adults (ages 15-49) newly infected with HIV</td>\n",
       "      <td>SH.HIV.INCD</td>\n",
       "      <td>NaN</td>\n",
       "      <td>NaN</td>\n",
       "      <td>NaN</td>\n",
       "      <td>NaN</td>\n",
       "      <td>NaN</td>\n",
       "      <td>NaN</td>\n",
       "      <td>...</td>\n",
       "      <td>NaN</td>\n",
       "      <td>NaN</td>\n",
       "      <td>NaN</td>\n",
       "      <td>NaN</td>\n",
       "      <td>NaN</td>\n",
       "      <td>NaN</td>\n",
       "      <td>NaN</td>\n",
       "      <td>NaN</td>\n",
       "      <td>NaN</td>\n",
       "      <td>NaN</td>\n",
       "    </tr>\n",
       "  </tbody>\n",
       "</table>\n",
       "<p>5 rows × 67 columns</p>\n",
       "</div>"
      ],
      "text/plain": [
       "                  Country Name Country Code  \\\n",
       "0  Africa Eastern and Southern          AFE   \n",
       "1  Africa Eastern and Southern          AFE   \n",
       "2  Africa Eastern and Southern          AFE   \n",
       "3  Africa Eastern and Southern          AFE   \n",
       "4  Africa Eastern and Southern          AFE   \n",
       "\n",
       "                                      Indicator Name  Indicator Code  \\\n",
       "0  Adolescent fertility rate (births per 1,000 wo...     SP.ADO.TFRT   \n",
       "1  Adults (ages 15+) and children (0-14 years) li...     SH.HIV.TOTL   \n",
       "2  Adults (ages 15+) and children (ages 0-14) new...  SH.HIV.INCD.TL   \n",
       "3                  Adults (ages 15+) living with HIV     SH.DYN.AIDS   \n",
       "4        Adults (ages 15-49) newly infected with HIV     SH.HIV.INCD   \n",
       "\n",
       "         1960        1961        1962       1963       1964        1965  ...  \\\n",
       "0  140.120535  140.594564  141.128109  141.32344  141.50816  141.668896  ...   \n",
       "1         NaN         NaN         NaN        NaN        NaN         NaN  ...   \n",
       "2         NaN         NaN         NaN        NaN        NaN         NaN  ...   \n",
       "3         NaN         NaN         NaN        NaN        NaN         NaN  ...   \n",
       "4         NaN         NaN         NaN        NaN        NaN         NaN  ...   \n",
       "\n",
       "         2013        2014       2015       2016       2017       2018  \\\n",
       "0  103.391461  101.541782  99.719799  97.916601  96.146492  94.695223   \n",
       "1         NaN         NaN        NaN        NaN        NaN        NaN   \n",
       "2         NaN         NaN        NaN        NaN        NaN        NaN   \n",
       "3         NaN         NaN        NaN        NaN        NaN        NaN   \n",
       "4         NaN         NaN        NaN        NaN        NaN        NaN   \n",
       "\n",
       "        2019  2020  2021  Unnamed: 66  \n",
       "0  93.231944   NaN   NaN          NaN  \n",
       "1        NaN   NaN   NaN          NaN  \n",
       "2        NaN   NaN   NaN          NaN  \n",
       "3        NaN   NaN   NaN          NaN  \n",
       "4        NaN   NaN   NaN          NaN  \n",
       "\n",
       "[5 rows x 67 columns]"
      ]
     },
     "execution_count": 4,
     "metadata": {},
     "output_type": "execute_result"
    }
   ],
   "source": [
    "world.head()"
   ]
  },
  {
   "cell_type": "markdown",
   "id": "d8763154",
   "metadata": {},
   "source": [
    "Menampilkan informasi dari `world`."
   ]
  },
  {
   "cell_type": "code",
   "execution_count": 5,
   "id": "c724ca4f",
   "metadata": {},
   "outputs": [
    {
     "name": "stdout",
     "output_type": "stream",
     "text": [
      "<class 'pandas.core.frame.DataFrame'>\n",
      "RangeIndex: 117306 entries, 0 to 117305\n",
      "Data columns (total 67 columns):\n",
      " #   Column          Non-Null Count   Dtype  \n",
      "---  ------          --------------   -----  \n",
      " 0   Country Name    117306 non-null  object \n",
      " 1   Country Code    117306 non-null  object \n",
      " 2   Indicator Name  117306 non-null  object \n",
      " 3   Indicator Code  117306 non-null  object \n",
      " 4   1960            37753 non-null   float64\n",
      " 5   1961            38305 non-null   float64\n",
      " 6   1962            38880 non-null   float64\n",
      " 7   1963            38440 non-null   float64\n",
      " 8   1964            38490 non-null   float64\n",
      " 9   1965            38651 non-null   float64\n",
      " 10  1966            38595 non-null   float64\n",
      " 11  1967            39119 non-null   float64\n",
      " 12  1968            38709 non-null   float64\n",
      " 13  1969            38792 non-null   float64\n",
      " 14  1970            40158 non-null   float64\n",
      " 15  1971            40895 non-null   float64\n",
      " 16  1972            41437 non-null   float64\n",
      " 17  1973            40988 non-null   float64\n",
      " 18  1974            41028 non-null   float64\n",
      " 19  1975            41997 non-null   float64\n",
      " 20  1976            42075 non-null   float64\n",
      " 21  1977            42567 non-null   float64\n",
      " 22  1978            42141 non-null   float64\n",
      " 23  1979            42228 non-null   float64\n",
      " 24  1980            43058 non-null   float64\n",
      " 25  1981            43343 non-null   float64\n",
      " 26  1982            43631 non-null   float64\n",
      " 27  1983            43248 non-null   float64\n",
      " 28  1984            43473 non-null   float64\n",
      " 29  1985            43742 non-null   float64\n",
      " 30  1986            44128 non-null   float64\n",
      " 31  1987            44593 non-null   float64\n",
      " 32  1988            43945 non-null   float64\n",
      " 33  1989            44197 non-null   float64\n",
      " 34  1990            52295 non-null   float64\n",
      " 35  1991            52730 non-null   float64\n",
      " 36  1992            53407 non-null   float64\n",
      " 37  1993            52845 non-null   float64\n",
      " 38  1994            52801 non-null   float64\n",
      " 39  1995            53093 non-null   float64\n",
      " 40  1996            53289 non-null   float64\n",
      " 41  1997            53459 non-null   float64\n",
      " 42  1998            53237 non-null   float64\n",
      " 43  1999            54317 non-null   float64\n",
      " 44  2000            71764 non-null   float64\n",
      " 45  2001            68718 non-null   float64\n",
      " 46  2002            69457 non-null   float64\n",
      " 47  2003            69261 non-null   float64\n",
      " 48  2004            69774 non-null   float64\n",
      " 49  2005            71387 non-null   float64\n",
      " 50  2006            70778 non-null   float64\n",
      " 51  2007            71404 non-null   float64\n",
      " 52  2008            70457 non-null   float64\n",
      " 53  2009            70973 non-null   float64\n",
      " 54  2010            75273 non-null   float64\n",
      " 55  2011            71916 non-null   float64\n",
      " 56  2012            72349 non-null   float64\n",
      " 57  2013            71108 non-null   float64\n",
      " 58  2014            72429 non-null   float64\n",
      " 59  2015            73050 non-null   float64\n",
      " 60  2016            72903 non-null   float64\n",
      " 61  2017            71956 non-null   float64\n",
      " 62  2018            71383 non-null   float64\n",
      " 63  2019            67066 non-null   float64\n",
      " 64  2020            50967 non-null   float64\n",
      " 65  2021            1053 non-null    float64\n",
      " 66  Unnamed: 66     0 non-null       float64\n",
      "dtypes: float64(63), object(4)\n",
      "memory usage: 60.0+ MB\n"
     ]
    }
   ],
   "source": [
    "world.info()"
   ]
  },
  {
   "cell_type": "markdown",
   "id": "6fc098e7",
   "metadata": {},
   "source": [
    "Meninjau duplicate data dari `world`."
   ]
  },
  {
   "cell_type": "code",
   "execution_count": 6,
   "id": "b3e6344f",
   "metadata": {},
   "outputs": [
    {
     "data": {
      "text/plain": [
       "0"
      ]
     },
     "execution_count": 6,
     "metadata": {},
     "output_type": "execute_result"
    }
   ],
   "source": [
    "world.duplicated().sum()"
   ]
  },
  {
   "cell_type": "markdown",
   "id": "e6bb77f4",
   "metadata": {},
   "source": [
    "Meninjau null values dari `world`."
   ]
  },
  {
   "cell_type": "code",
   "execution_count": 7,
   "id": "7d27ab21",
   "metadata": {},
   "outputs": [
    {
     "data": {
      "text/plain": [
       "Country Name           0\n",
       "Country Code           0\n",
       "Indicator Name         0\n",
       "Indicator Code         0\n",
       "1960               79553\n",
       "                   ...  \n",
       "2018               45923\n",
       "2019               50240\n",
       "2020               66339\n",
       "2021              116253\n",
       "Unnamed: 66       117306\n",
       "Length: 67, dtype: int64"
      ]
     },
     "execution_count": 7,
     "metadata": {},
     "output_type": "execute_result"
    }
   ],
   "source": [
    "world.isna().sum()"
   ]
  },
  {
   "cell_type": "code",
   "execution_count": 8,
   "id": "6d7471d5",
   "metadata": {},
   "outputs": [
    {
     "data": {
      "text/plain": [
       "Country Name          0\n",
       "Country Code          0\n",
       "Indicator Name        0\n",
       "Indicator Code        0\n",
       "1960              79553\n",
       "1961              79001\n",
       "1962              78426\n",
       "1963              78866\n",
       "1964              78816\n",
       "1965              78655\n",
       "1966              78711\n",
       "1967              78187\n",
       "1968              78597\n",
       "1969              78514\n",
       "1970              77148\n",
       "1971              76411\n",
       "1972              75869\n",
       "1973              76318\n",
       "1974              76278\n",
       "1975              75309\n",
       "1976              75231\n",
       "1977              74739\n",
       "1978              75165\n",
       "1979              75078\n",
       "1980              74248\n",
       "1981              73963\n",
       "1982              73675\n",
       "1983              74058\n",
       "1984              73833\n",
       "1985              73564\n",
       "1986              73178\n",
       "1987              72713\n",
       "1988              73361\n",
       "1989              73109\n",
       "1990              65011\n",
       "dtype: int64"
      ]
     },
     "execution_count": 8,
     "metadata": {},
     "output_type": "execute_result"
    }
   ],
   "source": [
    "world.isna().sum().head(35)"
   ]
  },
  {
   "cell_type": "code",
   "execution_count": 9,
   "id": "36ba42dd",
   "metadata": {},
   "outputs": [
    {
     "data": {
      "text/plain": [
       "1988            73361\n",
       "1989            73109\n",
       "1990            65011\n",
       "1991            64576\n",
       "1992            63899\n",
       "1993            64461\n",
       "1994            64505\n",
       "1995            64213\n",
       "1996            64017\n",
       "1997            63847\n",
       "1998            64069\n",
       "1999            62989\n",
       "2000            45542\n",
       "2001            48588\n",
       "2002            47849\n",
       "2003            48045\n",
       "2004            47532\n",
       "2005            45919\n",
       "2006            46528\n",
       "2007            45902\n",
       "2008            46849\n",
       "2009            46333\n",
       "2010            42033\n",
       "2011            45390\n",
       "2012            44957\n",
       "2013            46198\n",
       "2014            44877\n",
       "2015            44256\n",
       "2016            44403\n",
       "2017            45350\n",
       "2018            45923\n",
       "2019            50240\n",
       "2020            66339\n",
       "2021           116253\n",
       "Unnamed: 66    117306\n",
       "dtype: int64"
      ]
     },
     "execution_count": 9,
     "metadata": {},
     "output_type": "execute_result"
    }
   ],
   "source": [
    "world.isna().sum().tail(35)"
   ]
  },
  {
   "cell_type": "markdown",
   "id": "e91cd09d",
   "metadata": {},
   "source": [
    "Melihat value pada kolom `Indicator Name`."
   ]
  },
  {
   "cell_type": "code",
   "execution_count": 10,
   "id": "09996ab7",
   "metadata": {
    "scrolled": true
   },
   "outputs": [
    {
     "data": {
      "text/plain": [
       "array(['Adolescent fertility rate (births per 1,000 women ages 15-19)',\n",
       "       'Adults (ages 15+) and children (0-14 years) living with HIV',\n",
       "       'Adults (ages 15+) and children (ages 0-14) newly infected with HIV',\n",
       "       'Adults (ages 15+) living with HIV',\n",
       "       'Adults (ages 15-49) newly infected with HIV',\n",
       "       'Age at first marriage, female', 'Age at first marriage, male',\n",
       "       'Age dependency ratio (% of working-age population)',\n",
       "       'Age dependency ratio, old', 'Age dependency ratio, young',\n",
       "       'Age population, age 00, female, interpolated',\n",
       "       'Age population, age 00, male, interpolated',\n",
       "       'Age population, age 01, female, interpolated',\n",
       "       'Age population, age 01, male, interpolated',\n",
       "       'Age population, age 02, female, interpolated',\n",
       "       'Age population, age 02, male, interpolated',\n",
       "       'Age population, age 03, female, interpolated',\n",
       "       'Age population, age 03, male, interpolated',\n",
       "       'Age population, age 04, female, interpolated',\n",
       "       'Age population, age 04, male, interpolated',\n",
       "       'Age population, age 05, female, interpolated',\n",
       "       'Age population, age 05, male, interpolated',\n",
       "       'Age population, age 06, female, interpolated',\n",
       "       'Age population, age 06, male, interpolated',\n",
       "       'Age population, age 07, female, interpolated',\n",
       "       'Age population, age 07, male, interpolated',\n",
       "       'Age population, age 08, female, interpolated',\n",
       "       'Age population, age 08, male, interpolated',\n",
       "       'Age population, age 09, female, interpolated',\n",
       "       'Age population, age 09, male, interpolated',\n",
       "       'Age population, age 10, female, interpolated',\n",
       "       'Age population, age 10, male, interpolated',\n",
       "       'Age population, age 11, female, interpolated',\n",
       "       'Age population, age 11, male, interpolated',\n",
       "       'Age population, age 12, female, interpolated',\n",
       "       'Age population, age 12, male, interpolated',\n",
       "       'Age population, age 13, female, interpolated',\n",
       "       'Age population, age 13, male, interpolated',\n",
       "       'Age population, age 14, female, interpolated',\n",
       "       'Age population, age 14, male, interpolated',\n",
       "       'Age population, age 15, female, interpolated',\n",
       "       'Age population, age 15, male, interpolated',\n",
       "       'Age population, age 16, female, interpolated',\n",
       "       'Age population, age 16, male, interpolated',\n",
       "       'Age population, age 17, female, interpolated',\n",
       "       'Age population, age 17, male, interpolated',\n",
       "       'Age population, age 18, female, interpolated',\n",
       "       'Age population, age 18, male, interpolated',\n",
       "       'Age population, age 19, female, interpolated',\n",
       "       'Age population, age 19, male, interpolated',\n",
       "       'Age population, age 20, female, interpolated',\n",
       "       'Age population, age 20, male, interpolated',\n",
       "       'Age population, age 21, female, interpolated',\n",
       "       'Age population, age 21, male, interpolated',\n",
       "       'Age population, age 22, female, interpolated',\n",
       "       'Age population, age 22, male, interpolated',\n",
       "       'Age population, age 23, female, interpolated',\n",
       "       'Age population, age 23, male, interpolated',\n",
       "       'Age population, age 24, female, interpolated',\n",
       "       'Age population, age 24, male, interpolated',\n",
       "       'Age population, age 25, female, interpolated',\n",
       "       'Age population, age 25, male, interpolated',\n",
       "       'AIDS estimated deaths (UNAIDS estimates)',\n",
       "       'Antiretroviral therapy coverage (% of people living with HIV)',\n",
       "       'Antiretroviral therapy coverage for PMTCT (% of pregnant women living with HIV)',\n",
       "       'ARI treatment (% of children under 5 taken to a health provider)',\n",
       "       'Birth rate, crude (per 1,000 people)',\n",
       "       'Births attended by skilled health staff (% of total)',\n",
       "       'Capital health expenditure (% of GDP)',\n",
       "       'Cause of death, by communicable diseases and maternal, prenatal and nutrition conditions (% of total)',\n",
       "       'Cause of death, by injury (% of total)',\n",
       "       'Cause of death, by non-communicable diseases (% of total)',\n",
       "       'Children (0-14) living with HIV',\n",
       "       'Children (ages 0-14) newly infected with HIV',\n",
       "       'Children orphaned by HIV/AIDS',\n",
       "       'Children with fever receiving antimalarial drugs (% of children under age 5 with fever)',\n",
       "       'Community health workers (per 1,000 people)',\n",
       "       'Completeness of birth registration (%)',\n",
       "       'Completeness of birth registration, female (%)',\n",
       "       'Completeness of birth registration, male (%)',\n",
       "       'Completeness of birth registration, rural (%)',\n",
       "       'Completeness of birth registration, urban (%)',\n",
       "       'Completeness of death registration with cause-of-death information (%)',\n",
       "       'Comprehensive correct knowledge of HIV/AIDS, ages 15-24, female (2 prevent ways and reject 3 misconceptions)',\n",
       "       'Comprehensive correct knowledge of HIV/AIDS, ages 15-24, male (2 prevent ways and reject 3 misconceptions)',\n",
       "       'Comprehensive correct knowledge of HIV/AIDS, ages 15-49, female (2 prevent ways and reject 3 misconceptions)',\n",
       "       'Comprehensive correct knowledge of HIV/AIDS, ages 15-49, male (2 prevent ways and reject 3 misconceptions)',\n",
       "       'Condom use at last high-risk sex, adult female (% ages 15-49)',\n",
       "       'Condom use at last high-risk sex, adult male (% ages 15-49)',\n",
       "       'Condom use, population ages 15-24, female (% of females ages 15-24)',\n",
       "       'Condom use, population ages 15-24, male (% of males ages 15-24)',\n",
       "       'Consumption of iodized salt (% of households)',\n",
       "       'Contraceptive prevalence, any method (% of married women ages 15-49)',\n",
       "       'Contraceptive prevalence, any method (% of sexually active unmarried women ages 15-49)',\n",
       "       'Contraceptive prevalence, any modern method (% of married women ages 15-49)',\n",
       "       'Contraceptive prevalence, any modern method (% of sexually active unmarried women ages 15-49)',\n",
       "       'Current health expenditure (% of GDP)',\n",
       "       'Current health expenditure per capita (current US$)',\n",
       "       'Current health expenditure per capita, PPP (current international $)',\n",
       "       'Death rate, crude (per 1,000 people)',\n",
       "       'Demand for family planning satisfied by any methods (% of married women with demand for family planning)',\n",
       "       'Demand for family planning satisfied by modern methods (% of married women with demand for family planning)',\n",
       "       'Diabetes prevalence (% of population ages 20 to 79)',\n",
       "       'Diarrhea treatment (% of children under 5 receiving oral rehydration and continued feeding)',\n",
       "       'Diarrhea treatment (% of children under 5 who received ORS packet)',\n",
       "       'Domestic general government health expenditure (% of current health expenditure)',\n",
       "       'Domestic general government health expenditure (% of GDP)',\n",
       "       'Domestic general government health expenditure (% of general government expenditure)',\n",
       "       'Domestic general government health expenditure per capita (current US$)',\n",
       "       'Domestic general government health expenditure per capita, PPP (current international $)',\n",
       "       'Domestic private health expenditure (% of current health expenditure)',\n",
       "       'Domestic private health expenditure per capita (current US$)',\n",
       "       'Domestic private health expenditure per capita, PPP  (current international $)',\n",
       "       'Exclusive breastfeeding (% of children under 6 months)',\n",
       "       'External health expenditure (% of current health expenditure)',\n",
       "       'External health expenditure channeled through government (% of external health expenditure)',\n",
       "       'External health expenditure per capita (current US$)',\n",
       "       'External health expenditure per capita, PPP (current international $)',\n",
       "       'Female headed households (% of households with a female head)',\n",
       "       'Fertility rate, total (births per woman)',\n",
       "       'GNI per capita, Atlas method (current US$)',\n",
       "       'Hospital beds (per 1,000 people)',\n",
       "       'Human capital index (HCI) (scale 0-1)',\n",
       "       'Human capital index (HCI), female (scale 0-1)',\n",
       "       'Human capital index (HCI), female, lower bound (scale 0-1)',\n",
       "       'Human capital index (HCI), female, upper bound (scale 0-1)',\n",
       "       'Human capital index (HCI), lower bound (scale 0-1)',\n",
       "       'Human capital index (HCI), male (scale 0-1)',\n",
       "       'Human capital index (HCI), male, lower bound (scale 0-1)',\n",
       "       'Human capital index (HCI), male, upper bound (scale 0-1)',\n",
       "       'Human capital index (HCI), upper bound (scale 0-1)',\n",
       "       'Immunization, BCG (% of one-year-old children)',\n",
       "       'Immunization, DPT (% of children ages 12-23 months)',\n",
       "       'Immunization, HepB3 (% of one-year-old children)',\n",
       "       'Immunization, Hib3 (% of children ages 12-23 months)',\n",
       "       'Immunization, measles (% of children ages 12-23 months)',\n",
       "       'Immunization, measles second dose (% of children by the nationally recommended age)',\n",
       "       'Immunization, Pol3 (% of one-year-old children)',\n",
       "       'Incidence of HIV, ages 15-24 (per 1,000 uninfected population ages 15-24)',\n",
       "       'Incidence of HIV, ages 15-49 (per 1,000 uninfected population ages 15-49)',\n",
       "       'Incidence of HIV, ages 50+ (per 1,000 uninfected population ages 50+)',\n",
       "       'Incidence of HIV, all (per 1,000 uninfected population)',\n",
       "       'Incidence of malaria (per 1,000 population at risk)',\n",
       "       'Incidence of tuberculosis (per 100,000 people)',\n",
       "       'Infant and young child feeding practices, all 3 IYCF (% children ages 6-23 months)',\n",
       "       'Intermittent preventive treatment (IPT) of malaria in pregnancy (% of pregnant women)',\n",
       "       'Labor force, female (% of total labor force)',\n",
       "       'Labor force, total', 'Life expectancy at birth, female (years)',\n",
       "       'Life expectancy at birth, male (years)',\n",
       "       'Life expectancy at birth, total (years)',\n",
       "       'Lifetime risk of maternal death (%)',\n",
       "       'Lifetime risk of maternal death (1 in: rate varies by country)',\n",
       "       'Literacy rate, adult female (% of females ages 15 and above)',\n",
       "       'Literacy rate, adult male (% of males ages 15 and above)',\n",
       "       'Literacy rate, adult total (% of people ages 15 and above)',\n",
       "       'Literacy rate, youth male (% of males ages 15-24)',\n",
       "       'Literacy rate, youth total (% of people ages 15-24)',\n",
       "       'Low-birthweight babies (% of births)', 'Malaria cases reported',\n",
       "       'Maternal leave benefits (% of wages paid in covered period)',\n",
       "       'Maternal mortality ratio (modeled estimate, per 100,000 live births)',\n",
       "       'Maternal mortality ratio (national estimate, per 100,000 live births)',\n",
       "       'Mortality caused by road traffic injury (per 100,000 people)',\n",
       "       'Mortality caused by road traffic injury, female (per 100,000 female population)',\n",
       "       'Mortality caused by road traffic injury, male (per 100,000 male population)',\n",
       "       'Mortality from CVD, cancer, diabetes or CRD between exact ages 30 and 70 (%)',\n",
       "       'Mortality from CVD, cancer, diabetes or CRD between exact ages 30 and 70, female (%)',\n",
       "       'Mortality from CVD, cancer, diabetes or CRD between exact ages 30 and 70, male (%)',\n",
       "       'Mortality rate attributed to household and ambient air pollution (per 100,000 population)',\n",
       "       'Mortality rate attributed to household and ambient air pollution, age-standardized, female (per 100,000 female population)',\n",
       "       'Mortality rate attributed to household and ambient air pollution, age-standardized, male (per 100,000 male population)',\n",
       "       'Mortality rate attributed to unintentional poisoning (per 100,000 population)',\n",
       "       'Mortality rate attributed to unintentional poisoning, female (per 100,000 female population)',\n",
       "       'Mortality rate attributed to unintentional poisoning, male (per 100,000 male population)',\n",
       "       'Mortality rate attributed to unsafe water, unsafe sanitation and lack of hygiene (per 100,000 population)',\n",
       "       'Mortality rate attributed to unsafe water, unsafe sanitation and lack of hygiene, female (per 100,000 female population)',\n",
       "       'Mortality rate attributed to unsafe water, unsafe sanitation and lack of hygiene, male (per 100,000 male population)',\n",
       "       'Mortality rate, adult, female (per 1,000 female adults)',\n",
       "       'Mortality rate, adult, male (per 1,000 male adults)',\n",
       "       'Mortality rate, infant (per 1,000 live births)',\n",
       "       'Mortality rate, infant, female (per 1,000 live births)',\n",
       "       'Mortality rate, infant, male (per 1,000 live births)',\n",
       "       'Mortality rate, neonatal (per 1,000 live births)',\n",
       "       'Mortality rate, under-5 (per 1,000)',\n",
       "       'Mortality rate, under-5, female (per 1,000)',\n",
       "       'Mortality rate, under-5, male (per 1,000)', 'Net migration',\n",
       "       'Newborns protected against tetanus (%)',\n",
       "       'Number of deaths ages 10-14 years',\n",
       "       'Number of deaths ages 10-19 years',\n",
       "       'Number of deaths ages 15-19 years',\n",
       "       'Number of deaths ages 20-24 years',\n",
       "       'Number of deaths ages 5-9 years', 'Number of infant deaths',\n",
       "       'Number of infant deaths, female', 'Number of infant deaths, male',\n",
       "       'Number of maternal deaths', 'Number of neonatal deaths',\n",
       "       'Number of people pushed below the $1.90 ($ 2011 PPP) poverty line by out-of-pocket health care expenditure',\n",
       "       'Number of people pushed below the $3.20 ($ 2011 PPP) poverty line by out-of-pocket health care expenditure',\n",
       "       'Number of people pushed below the 60% median consumption poverty line by out-of-pocket health care expenditure',\n",
       "       'Number of people pushed further below the $1.90 ($ 2011 PPP) poverty line by out-of-pocket health care expenditure',\n",
       "       'Number of people pushed further below the $3.20 ($ 2011 PPP) poverty line by out-of-pocket health care expenditure',\n",
       "       'Number of people pushed further below the 60% median consumption poverty line by out-of-pocket health care expenditure',\n",
       "       'Number of people spending more than 10% of household consumption or income on out-of-pocket health care expenditure',\n",
       "       'Number of people spending more than 25% of household consumption or income on out-of-pocket health care expenditure',\n",
       "       'Number of people who are undernourished', 'Number of stillbirths',\n",
       "       'Number of surgical procedures (per 100,000 population)',\n",
       "       'Number of under-five deaths',\n",
       "       'Number of under-five deaths, female',\n",
       "       'Number of under-five deaths, male',\n",
       "       'Nurses and midwives (per 1,000 people)',\n",
       "       'Out-of-pocket expenditure (% of current health expenditure)',\n",
       "       'Out-of-pocket expenditure per capita (current US$)',\n",
       "       'Out-of-pocket expenditure per capita, PPP (current international $)',\n",
       "       'People practicing open defecation (% of population)',\n",
       "       'People practicing open defecation, rural (% of rural population)',\n",
       "       'People practicing open defecation, urban (% of urban population)',\n",
       "       'People using at least basic drinking water services (% of population)',\n",
       "       'People using at least basic drinking water services, rural (% of rural population)',\n",
       "       'People using at least basic drinking water services, urban (% of urban population)',\n",
       "       'People using at least basic sanitation services (% of population)',\n",
       "       'People using at least basic sanitation services, rural (% of rural population)',\n",
       "       'People using at least basic sanitation services, urban  (% of urban population)',\n",
       "       'People using safely managed drinking water services (% of population)',\n",
       "       'People using safely managed drinking water services, rural (% of rural population)',\n",
       "       'People using safely managed drinking water services, urban (% of urban population)',\n",
       "       'People using safely managed sanitation services (% of population)',\n",
       "       'People using safely managed sanitation services, rural (% of rural population)',\n",
       "       'People using safely managed sanitation services, urban  (% of urban population)',\n",
       "       'People with basic handwashing facilities including soap and water (% of population)',\n",
       "       'People with basic handwashing facilities including soap and water, rural (% of rural population)',\n",
       "       'People with basic handwashing facilities including soap and water, urban (% of urban population)',\n",
       "       'Physicians (per 1,000 people)', 'Population ages 00-04, female',\n",
       "       'Population ages 00-04, female (% of female population)',\n",
       "       'Population ages 00-04, male',\n",
       "       'Population ages 00-04, male (% of male population)',\n",
       "       'Population ages 00-14, total',\n",
       "       'Population ages 0-14 (% of total population)',\n",
       "       'Population ages 0-14, female',\n",
       "       'Population ages 0-14, female (% of female population)',\n",
       "       'Population ages 0-14, male',\n",
       "       'Population ages 0-14, male (% of male population)',\n",
       "       'Population ages 05-09, female',\n",
       "       'Population ages 05-09, female (% of female population)',\n",
       "       'Population ages 05-09, male',\n",
       "       'Population ages 05-09, male (% of male population)',\n",
       "       'Population ages 10-14, female',\n",
       "       'Population ages 10-14, female (% of female population)',\n",
       "       'Population ages 10-14, male',\n",
       "       'Population ages 10-14, male (% of male population)',\n",
       "       'Population ages 15-19, female',\n",
       "       'Population ages 15-19, female (% of female population)',\n",
       "       'Population ages 15-19, male',\n",
       "       'Population ages 15-19, male (% of male population)',\n",
       "       'Population ages 15-64 (% of total population)',\n",
       "       'Population ages 15-64, female',\n",
       "       'Population ages 15-64, female (% of female population)',\n",
       "       'Population ages 15-64, male',\n",
       "       'Population ages 15-64, male (% of male population)',\n",
       "       'Population ages 15-64, total', 'Population ages 20-24, female',\n",
       "       'Population ages 20-24, female (% of female population)',\n",
       "       'Population ages 20-24, male',\n",
       "       'Population ages 20-24, male (% of male population)',\n",
       "       'Population ages 25-29, female',\n",
       "       'Population ages 25-29, female (% of female population)',\n",
       "       'Population ages 25-29, male',\n",
       "       'Population ages 25-29, male (% of male population)',\n",
       "       'Population ages 30-34, female',\n",
       "       'Population ages 30-34, female (% of female population)',\n",
       "       'Population ages 30-34, male',\n",
       "       'Population ages 30-34, male (% of male population)',\n",
       "       'Population ages 35-39, female',\n",
       "       'Population ages 35-39, female (% of female population)',\n",
       "       'Population ages 35-39, male',\n",
       "       'Population ages 35-39, male (% of male population)',\n",
       "       'Population ages 40-44, female',\n",
       "       'Population ages 40-44, female (% of female population)',\n",
       "       'Population ages 40-44, male',\n",
       "       'Population ages 40-44, male (% of male population)',\n",
       "       'Population ages 45-49, female',\n",
       "       'Population ages 45-49, female (% of female population)',\n",
       "       'Population ages 45-49, male',\n",
       "       'Population ages 45-49, male (% of male population)',\n",
       "       'Population ages 50-54, female',\n",
       "       'Population ages 50-54, female (% of female population)',\n",
       "       'Population ages 50-54, male',\n",
       "       'Population ages 50-54, male (% of male population)',\n",
       "       'Population ages 55-59, female',\n",
       "       'Population ages 55-59, female (% of female population)',\n",
       "       'Population ages 55-59, male',\n",
       "       'Population ages 55-59, male (% of male population)',\n",
       "       'Population ages 60-64, female',\n",
       "       'Population ages 60-64, female (% of female population)',\n",
       "       'Population ages 60-64, male',\n",
       "       'Population ages 60-64, male (% of male population)',\n",
       "       'Population ages 65 and above (% of total population)',\n",
       "       'Population ages 65 and above, female',\n",
       "       'Population ages 65 and above, female (% of female population)',\n",
       "       'Population ages 65 and above, male',\n",
       "       'Population ages 65 and above, male (% of male population)',\n",
       "       'Population ages 65 and above, total',\n",
       "       'Population ages 65-69, female',\n",
       "       'Population ages 65-69, female (% of female population)',\n",
       "       'Population ages 65-69, male',\n",
       "       'Population ages 65-69, male (% of male population)',\n",
       "       'Population ages 70-74, female',\n",
       "       'Population ages 70-74, female (% of female population)',\n",
       "       'Population ages 70-74, male',\n",
       "       'Population ages 70-74, male (% of male population)',\n",
       "       'Population ages 75-79, female',\n",
       "       'Population ages 75-79, female (% of female population)',\n",
       "       'Population ages 75-79, male',\n",
       "       'Population ages 75-79, male (% of male population)',\n",
       "       'Population ages 80 and above, female',\n",
       "       'Population ages 80 and above, male',\n",
       "       'Population ages 80 and above, male (% of male population)',\n",
       "       'Population ages 80 and older, female (% of female population)',\n",
       "       'Population growth (annual %)', 'Population, female',\n",
       "       'Population, female (% of total population)', 'Population, male',\n",
       "       'Population, male (% of total population)', 'Population, total',\n",
       "       'Postnatal care coverage (% mothers)',\n",
       "       'Poverty headcount ratio at national poverty line (% of population)',\n",
       "       'Pregnant women receiving prenatal care (%)',\n",
       "       'Pregnant women receiving prenatal care of at least four visits (% of pregnant women)',\n",
       "       'Prevalence of anemia among children (% of children ages 6-59 months)',\n",
       "       'Prevalence of anemia among non-pregnant women (% of women ages 15-49)',\n",
       "       'Prevalence of anemia among pregnant women (%)',\n",
       "       'Prevalence of anemia among women of reproductive age (% of women ages 15-49)',\n",
       "       'Prevalence of current tobacco use (% of adults)',\n",
       "       'Prevalence of current tobacco use, females (% of female adults)',\n",
       "       'Prevalence of current tobacco use, males (% of male adults)',\n",
       "       'Prevalence of HIV, female (% ages 15-24)',\n",
       "       'Prevalence of HIV, male (% ages 15-24)',\n",
       "       'Prevalence of HIV, total (% of population ages 15-49)',\n",
       "       'Prevalence of hypertension (% of adults ages 30-79)',\n",
       "       'Prevalence of hypertension, female (% of female adults ages 30-79)',\n",
       "       'Prevalence of hypertension, male (% of male adults ages 30-79)',\n",
       "       'Prevalence of overweight (% of adults)',\n",
       "       'Prevalence of overweight (% of children under 5)',\n",
       "       'Prevalence of overweight (modeled estimate, % of children under 5)',\n",
       "       'Prevalence of overweight, female (% of children under 5)',\n",
       "       'Prevalence of overweight, female (% of female adults)',\n",
       "       'Prevalence of overweight, male (% of children under 5)',\n",
       "       'Prevalence of overweight, male (% of male adults)',\n",
       "       'Prevalence of severe wasting, weight for height (% of children under 5)',\n",
       "       'Prevalence of severe wasting, weight for height, female (% of children under 5)',\n",
       "       'Prevalence of severe wasting, weight for height, male (% of children under 5)',\n",
       "       'Prevalence of stunting, height for age (% of children under 5)',\n",
       "       'Prevalence of stunting, height for age (modeled estimate, % of children under 5)',\n",
       "       'Prevalence of stunting, height for age, female (% of children under 5)',\n",
       "       'Prevalence of stunting, height for age, male (% of children under 5)',\n",
       "       'Prevalence of syphilis (% of women attending antenatal care)',\n",
       "       'Prevalence of undernourishment (% of population)',\n",
       "       'Prevalence of underweight, weight for age (% of children under 5)',\n",
       "       'Prevalence of underweight, weight for age, female (% of children under 5)',\n",
       "       'Prevalence of underweight, weight for age, male (% of children under 5)',\n",
       "       'Prevalence of wasting, weight for height (% of children under 5)',\n",
       "       'Prevalence of wasting, weight for height, female (% of children under 5)',\n",
       "       'Prevalence of wasting, weight for height, male (% of children under 5)',\n",
       "       'Primary completion rate, female (% of relevant age group)',\n",
       "       'Primary completion rate, male (% of relevant age group)',\n",
       "       'Primary completion rate, total (% of relevant age group)',\n",
       "       'Probability of dying among adolescents ages 10-14 years (per 1,000)',\n",
       "       'Probability of dying among adolescents ages 10-19 years (per 1,000)',\n",
       "       'Probability of dying among adolescents ages 15-19 years (per 1,000)',\n",
       "       'Probability of dying among children ages 5-9 years (per 1,000)',\n",
       "       'Probability of dying among youth ages 20-24 years (per 1,000)',\n",
       "       'Proportion of population pushed below the $1.90 ($ 2011 PPP) poverty line by out-of-pocket health care expenditure (%)',\n",
       "       'Proportion of population pushed below the $3.20 ($ 2011 PPP) poverty line by out-of-pocket health care expenditure (%)',\n",
       "       'Proportion of population pushed below the 60% median consumption poverty line by out-of-pocket health expenditure (%)',\n",
       "       'Proportion of population pushed further below the $1.90 ($ 2011 PPP) poverty line by out-of-pocket health care expenditure (%)',\n",
       "       'Proportion of population pushed further below the $3.20 ($ 2011 PPP) poverty line by out-of-pocket health care expenditure (%)',\n",
       "       'Proportion of population pushed further below the 60% median consumption poverty line by out-of-pocket health care expenditure (%)',\n",
       "       'Proportion of population spending more than 10% of household consumption or income on out-of-pocket health care expenditure (%)',\n",
       "       'Proportion of population spending more than 25% of household consumption or income on out-of-pocket health care expenditure (%)',\n",
       "       'Public spending on education, total (% of GDP)',\n",
       "       'Ratio of school attendance of orphans to school attendance of non-orphans ages 10-14',\n",
       "       'Ratio of young literate females to males (% ages 15-24)',\n",
       "       'Risk of catastrophic expenditure for surgical care (% of people at risk)',\n",
       "       'Risk of impoverishing expenditure for surgical care (% of people at risk)',\n",
       "       'Rural population', 'Rural population (% of total population)',\n",
       "       'Rural population growth (annual %)',\n",
       "       'Rural poverty headcount ratio at national poverty lines (% of rural population)',\n",
       "       'School enrollment, primary (% gross)',\n",
       "       'School enrollment, primary (% net)',\n",
       "       'School enrollment, primary, female (% gross)',\n",
       "       'School enrollment, primary, female (% net)',\n",
       "       'School enrollment, primary, male (% gross)',\n",
       "       'School enrollment, primary, male (% net)',\n",
       "       'School enrollment, secondary (% gross)',\n",
       "       'School enrollment, secondary (% net)',\n",
       "       'School enrollment, secondary, female (% gross)',\n",
       "       'School enrollment, secondary, female (% net)',\n",
       "       'School enrollment, secondary, male (% gross)',\n",
       "       'School enrollment, secondary, male (% net)',\n",
       "       'School enrollment, tertiary (% gross)',\n",
       "       'School enrollment, tertiary, female (% gross)',\n",
       "       'Sex ratio at birth (male births per female births)',\n",
       "       'Share of women employed in the nonagricultural sector (% of total nonagricultural employment)',\n",
       "       'Specialist surgical workforce (per 100,000 population)',\n",
       "       'Stillbirth rate (per 1,000 total births)',\n",
       "       'Suicide mortality rate (per 100,000 population)',\n",
       "       'Suicide mortality rate, female (per 100,000 female population)',\n",
       "       'Suicide mortality rate, male (per 100,000 male population)',\n",
       "       'Survival to age 65, female (% of cohort)',\n",
       "       'Survival to age 65, male (% of cohort)',\n",
       "       'Teenage mothers (% of women ages 15-19 who have had children or are currently pregnant)',\n",
       "       'Total alcohol consumption per capita (liters of pure alcohol, projected estimates, 15+ years of age)',\n",
       "       'Total alcohol consumption per capita, female (liters of pure alcohol, projected estimates, female 15+ years of age)',\n",
       "       'Total alcohol consumption per capita, male (liters of pure alcohol, projected estimates, male 15+ years of age)',\n",
       "       'Treatment for hypertension (% of adults ages 30-79 with hypertension)',\n",
       "       'Treatment for hypertension, female (% of female adults ages 30-79 with hypertension)',\n",
       "       'Treatment for hypertension, male (% of male adults ages 30-79 with hypertension)',\n",
       "       'Tuberculosis case detection rate (%, all forms)',\n",
       "       'Tuberculosis death rate (per 100,000 people)',\n",
       "       'Tuberculosis treatment success rate (% of new cases)',\n",
       "       'UHC service coverage index',\n",
       "       'Unemployment, female (% of female labor force)',\n",
       "       'Unemployment, male (% of male labor force)',\n",
       "       'Unemployment, total (% of total labor force)',\n",
       "       'Unmet need for contraception (% of married women ages 15-49)',\n",
       "       'Urban population', 'Urban population (% of total population)',\n",
       "       'Urban population growth (annual %)',\n",
       "       'Urban poverty headcount ratio at national poverty lines (% of urban population)',\n",
       "       'Use of insecticide-treated bed nets (% of under-5 population)',\n",
       "       'Vitamin A supplementation coverage rate (% of children ages 6-59 months)',\n",
       "       'Wanted fertility rate (births per woman)',\n",
       "       'Women who were first married by age 15 (% of women ages 20-24)',\n",
       "       'Women who were first married by age 18 (% of women ages 20-24)',\n",
       "       \"Women's share of population ages 15+ living with HIV (%)\",\n",
       "       'Young people (ages 15-24) newly infected with HIV'], dtype=object)"
      ]
     },
     "execution_count": 10,
     "metadata": {},
     "output_type": "execute_result"
    }
   ],
   "source": [
    "world['Indicator Name'].unique()"
   ]
  },
  {
   "cell_type": "markdown",
   "id": "3a3adbfe",
   "metadata": {},
   "source": [
    "# Menjawab pertanyaan-pertanyaan yang diberikan"
   ]
  },
  {
   "cell_type": "markdown",
   "id": "8625cc83",
   "metadata": {},
   "source": [
    "### 1. Which country has the lowest death caused by nutrition in 2019?"
   ]
  },
  {
   "cell_type": "markdown",
   "id": "9908b902",
   "metadata": {},
   "source": [
    "Meninjau `Indicator Name` sesuai keyword dari pertanyaan."
   ]
  },
  {
   "cell_type": "code",
   "execution_count": 11,
   "id": "9875b1ad",
   "metadata": {},
   "outputs": [
    {
     "name": "stdout",
     "output_type": "stream",
     "text": [
      "['Cause of death, by communicable diseases and maternal, prenatal and nutrition conditions (% of total)']\n"
     ]
    }
   ],
   "source": [
    "print(world[world['Indicator Name'].str.contains('nutrition', case = False)]['Indicator Name'].unique())"
   ]
  },
  {
   "cell_type": "code",
   "execution_count": 12,
   "id": "5a3350c3",
   "metadata": {},
   "outputs": [
    {
     "data": {
      "text/html": [
       "<div>\n",
       "<style scoped>\n",
       "    .dataframe tbody tr th:only-of-type {\n",
       "        vertical-align: middle;\n",
       "    }\n",
       "\n",
       "    .dataframe tbody tr th {\n",
       "        vertical-align: top;\n",
       "    }\n",
       "\n",
       "    .dataframe thead th {\n",
       "        text-align: right;\n",
       "    }\n",
       "</style>\n",
       "<table border=\"1\" class=\"dataframe\">\n",
       "  <thead>\n",
       "    <tr style=\"text-align: right;\">\n",
       "      <th></th>\n",
       "      <th>Country Name</th>\n",
       "      <th>Indicator Name</th>\n",
       "      <th>2019</th>\n",
       "    </tr>\n",
       "  </thead>\n",
       "  <tbody>\n",
       "    <tr>\n",
       "      <th>85623</th>\n",
       "      <td>North Macedonia</td>\n",
       "      <td>Cause of death, by communicable diseases and m...</td>\n",
       "      <td>1.283611</td>\n",
       "    </tr>\n",
       "    <tr>\n",
       "      <th>79890</th>\n",
       "      <td>Montenegro</td>\n",
       "      <td>Cause of death, by communicable diseases and m...</td>\n",
       "      <td>1.413876</td>\n",
       "    </tr>\n",
       "    <tr>\n",
       "      <th>51225</th>\n",
       "      <td>Finland</td>\n",
       "      <td>Cause of death, by communicable diseases and m...</td>\n",
       "      <td>1.424167</td>\n",
       "    </tr>\n",
       "  </tbody>\n",
       "</table>\n",
       "</div>"
      ],
      "text/plain": [
       "          Country Name                                     Indicator Name  \\\n",
       "85623  North Macedonia  Cause of death, by communicable diseases and m...   \n",
       "79890       Montenegro  Cause of death, by communicable diseases and m...   \n",
       "51225          Finland  Cause of death, by communicable diseases and m...   \n",
       "\n",
       "           2019  \n",
       "85623  1.283611  \n",
       "79890  1.413876  \n",
       "51225  1.424167  "
      ]
     },
     "execution_count": 12,
     "metadata": {},
     "output_type": "execute_result"
    }
   ],
   "source": [
    "(world[world['Indicator Name'].str.contains('nutrition')]\n",
    " .loc[:, ['Country Name', 'Indicator Name', '2019']].sort_values('2019').head(3))"
   ]
  },
  {
   "cell_type": "markdown",
   "id": "36822958",
   "metadata": {},
   "source": [
    "<b>Answer: North Macedonia</b>"
   ]
  },
  {
   "cell_type": "markdown",
   "id": "48cfb706",
   "metadata": {},
   "source": [
    "### 2. Which country has the highest rate of diabetes prevalence in 2021?"
   ]
  },
  {
   "cell_type": "markdown",
   "id": "8b3bd044",
   "metadata": {},
   "source": [
    "Meninjau `Indicator Name` sesuai keyword dari pertanyaan."
   ]
  },
  {
   "cell_type": "code",
   "execution_count": 13,
   "id": "62680877",
   "metadata": {},
   "outputs": [
    {
     "name": "stdout",
     "output_type": "stream",
     "text": [
      "['Diabetes prevalence (% of population ages 20 to 79)'\n",
      " 'Mortality from CVD, cancer, diabetes or CRD between exact ages 30 and 70 (%)'\n",
      " 'Mortality from CVD, cancer, diabetes or CRD between exact ages 30 and 70, female (%)'\n",
      " 'Mortality from CVD, cancer, diabetes or CRD between exact ages 30 and 70, male (%)']\n"
     ]
    }
   ],
   "source": [
    "print(world[world['Indicator Name'].str.contains('diabetes', case = False)]['Indicator Name'].unique())"
   ]
  },
  {
   "cell_type": "code",
   "execution_count": 14,
   "id": "950195d9",
   "metadata": {},
   "outputs": [
    {
     "data": {
      "text/html": [
       "<div>\n",
       "<style scoped>\n",
       "    .dataframe tbody tr th:only-of-type {\n",
       "        vertical-align: middle;\n",
       "    }\n",
       "\n",
       "    .dataframe tbody tr th {\n",
       "        vertical-align: top;\n",
       "    }\n",
       "\n",
       "    .dataframe thead th {\n",
       "        text-align: right;\n",
       "    }\n",
       "</style>\n",
       "<table border=\"1\" class=\"dataframe\">\n",
       "  <thead>\n",
       "    <tr style=\"text-align: right;\">\n",
       "      <th></th>\n",
       "      <th>Country Name</th>\n",
       "      <th>Indicator Name</th>\n",
       "      <th>2021</th>\n",
       "    </tr>\n",
       "  </thead>\n",
       "  <tbody>\n",
       "    <tr>\n",
       "      <th>87420</th>\n",
       "      <td>Pakistan</td>\n",
       "      <td>Diabetes prevalence (% of population ages 20 t...</td>\n",
       "      <td>30.8</td>\n",
       "    </tr>\n",
       "    <tr>\n",
       "      <th>52140</th>\n",
       "      <td>French Polynesia</td>\n",
       "      <td>Diabetes prevalence (% of population ages 20 t...</td>\n",
       "      <td>25.2</td>\n",
       "    </tr>\n",
       "    <tr>\n",
       "      <th>68457</th>\n",
       "      <td>Kuwait</td>\n",
       "      <td>Diabetes prevalence (% of population ages 20 t...</td>\n",
       "      <td>24.9</td>\n",
       "    </tr>\n",
       "  </tbody>\n",
       "</table>\n",
       "</div>"
      ],
      "text/plain": [
       "           Country Name                                     Indicator Name  \\\n",
       "87420          Pakistan  Diabetes prevalence (% of population ages 20 t...   \n",
       "52140  French Polynesia  Diabetes prevalence (% of population ages 20 t...   \n",
       "68457            Kuwait  Diabetes prevalence (% of population ages 20 t...   \n",
       "\n",
       "       2021  \n",
       "87420  30.8  \n",
       "52140  25.2  \n",
       "68457  24.9  "
      ]
     },
     "execution_count": 14,
     "metadata": {},
     "output_type": "execute_result"
    }
   ],
   "source": [
    "(world[world['Indicator Name'].str.contains('Diabetes prevalence')]\n",
    " .loc[:, ['Country Name', 'Indicator Name', '2021']].sort_values('2021', ascending = False).head(3))"
   ]
  },
  {
   "cell_type": "markdown",
   "id": "76599807",
   "metadata": {},
   "source": [
    "<b>Answer: Pakistan</b>"
   ]
  },
  {
   "cell_type": "markdown",
   "id": "3fa21a08",
   "metadata": {},
   "source": [
    "### 3. How much is the working age population of Mali in 2020?"
   ]
  },
  {
   "cell_type": "markdown",
   "id": "ff466131",
   "metadata": {},
   "source": [
    "Meninjau `Indicator Name` sesuai keyword dari pertanyaan."
   ]
  },
  {
   "cell_type": "code",
   "execution_count": 15,
   "id": "17b52b36",
   "metadata": {},
   "outputs": [
    {
     "name": "stdout",
     "output_type": "stream",
     "text": [
      "['Age dependency ratio (% of working-age population)']\n"
     ]
    }
   ],
   "source": [
    "print(world[world['Indicator Name'].str.contains('working', case = False)]['Indicator Name'].unique())"
   ]
  },
  {
   "cell_type": "code",
   "execution_count": 16,
   "id": "690fa5f0",
   "metadata": {},
   "outputs": [
    {
     "data": {
      "text/html": [
       "<div>\n",
       "<style scoped>\n",
       "    .dataframe tbody tr th:only-of-type {\n",
       "        vertical-align: middle;\n",
       "    }\n",
       "\n",
       "    .dataframe tbody tr th {\n",
       "        vertical-align: top;\n",
       "    }\n",
       "\n",
       "    .dataframe thead th {\n",
       "        text-align: right;\n",
       "    }\n",
       "</style>\n",
       "<table border=\"1\" class=\"dataframe\">\n",
       "  <thead>\n",
       "    <tr style=\"text-align: right;\">\n",
       "      <th></th>\n",
       "      <th>Country Name</th>\n",
       "      <th>Indicator Name</th>\n",
       "      <th>2020</th>\n",
       "    </tr>\n",
       "  </thead>\n",
       "  <tbody>\n",
       "    <tr>\n",
       "      <th>75418</th>\n",
       "      <td>Mali</td>\n",
       "      <td>Age dependency ratio (% of working-age populat...</td>\n",
       "      <td>97.95885</td>\n",
       "    </tr>\n",
       "  </tbody>\n",
       "</table>\n",
       "</div>"
      ],
      "text/plain": [
       "      Country Name                                     Indicator Name  \\\n",
       "75418         Mali  Age dependency ratio (% of working-age populat...   \n",
       "\n",
       "           2020  \n",
       "75418  97.95885  "
      ]
     },
     "execution_count": 16,
     "metadata": {},
     "output_type": "execute_result"
    }
   ],
   "source": [
    "(world[world['Indicator Name'].str.contains('working')]\n",
    " .loc[world['Country Name'] == 'Mali', ['Country Name', 'Indicator Name', '2020']])"
   ]
  },
  {
   "cell_type": "markdown",
   "id": "4101e84f",
   "metadata": {},
   "source": [
    "<b>Answer: 97.95885%</b>"
   ]
  },
  {
   "cell_type": "markdown",
   "id": "6430c092",
   "metadata": {},
   "source": [
    "### 4. How many Indonesian adults (age 15+) are living with HIV in 2020?"
   ]
  },
  {
   "cell_type": "markdown",
   "id": "42f46c93",
   "metadata": {},
   "source": [
    "Meninjau `Indicator Name` sesuai keyword dari pertanyaan."
   ]
  },
  {
   "cell_type": "code",
   "execution_count": 17,
   "id": "a96a9855",
   "metadata": {
    "scrolled": false
   },
   "outputs": [
    {
     "name": "stdout",
     "output_type": "stream",
     "text": [
      "['Adults (ages 15+) and children (0-14 years) living with HIV'\n",
      " 'Adults (ages 15+) and children (ages 0-14) newly infected with HIV'\n",
      " 'Adults (ages 15+) living with HIV'\n",
      " 'Adults (ages 15-49) newly infected with HIV'\n",
      " 'Antiretroviral therapy coverage (% of people living with HIV)'\n",
      " 'Antiretroviral therapy coverage for PMTCT (% of pregnant women living with HIV)'\n",
      " 'Children (0-14) living with HIV'\n",
      " 'Children (ages 0-14) newly infected with HIV'\n",
      " 'Children orphaned by HIV/AIDS'\n",
      " 'Comprehensive correct knowledge of HIV/AIDS, ages 15-24, female (2 prevent ways and reject 3 misconceptions)'\n",
      " 'Comprehensive correct knowledge of HIV/AIDS, ages 15-24, male (2 prevent ways and reject 3 misconceptions)'\n",
      " 'Comprehensive correct knowledge of HIV/AIDS, ages 15-49, female (2 prevent ways and reject 3 misconceptions)'\n",
      " 'Comprehensive correct knowledge of HIV/AIDS, ages 15-49, male (2 prevent ways and reject 3 misconceptions)'\n",
      " 'Incidence of HIV, ages 15-24 (per 1,000 uninfected population ages 15-24)'\n",
      " 'Incidence of HIV, ages 15-49 (per 1,000 uninfected population ages 15-49)'\n",
      " 'Incidence of HIV, ages 50+ (per 1,000 uninfected population ages 50+)'\n",
      " 'Incidence of HIV, all (per 1,000 uninfected population)'\n",
      " 'Prevalence of HIV, female (% ages 15-24)'\n",
      " 'Prevalence of HIV, male (% ages 15-24)'\n",
      " 'Prevalence of HIV, total (% of population ages 15-49)'\n",
      " \"Women's share of population ages 15+ living with HIV (%)\"\n",
      " 'Young people (ages 15-24) newly infected with HIV']\n"
     ]
    }
   ],
   "source": [
    "print(world[world['Indicator Name'].str.contains('hiv', case = False)]['Indicator Name'].unique())"
   ]
  },
  {
   "cell_type": "code",
   "execution_count": 18,
   "id": "5e910d7f",
   "metadata": {},
   "outputs": [
    {
     "data": {
      "text/html": [
       "<div>\n",
       "<style scoped>\n",
       "    .dataframe tbody tr th:only-of-type {\n",
       "        vertical-align: middle;\n",
       "    }\n",
       "\n",
       "    .dataframe tbody tr th {\n",
       "        vertical-align: top;\n",
       "    }\n",
       "\n",
       "    .dataframe thead th {\n",
       "        text-align: right;\n",
       "    }\n",
       "</style>\n",
       "<table border=\"1\" class=\"dataframe\">\n",
       "  <thead>\n",
       "    <tr style=\"text-align: right;\">\n",
       "      <th></th>\n",
       "      <th>Country Name</th>\n",
       "      <th>Indicator Name</th>\n",
       "      <th>2020</th>\n",
       "    </tr>\n",
       "  </thead>\n",
       "  <tbody>\n",
       "    <tr>\n",
       "      <th>61302</th>\n",
       "      <td>Indonesia</td>\n",
       "      <td>Adults (ages 15+) living with HIV</td>\n",
       "      <td>520000.0</td>\n",
       "    </tr>\n",
       "  </tbody>\n",
       "</table>\n",
       "</div>"
      ],
      "text/plain": [
       "      Country Name                     Indicator Name      2020\n",
       "61302    Indonesia  Adults (ages 15+) living with HIV  520000.0"
      ]
     },
     "execution_count": 18,
     "metadata": {},
     "output_type": "execute_result"
    }
   ],
   "source": [
    "(world.loc[(world['Country Name'] == 'Indonesia') &\n",
    "           (world['Indicator Name'] == 'Adults (ages 15+) living with HIV'),\n",
    "           ['Country Name', 'Indicator Name', '2020']])"
   ]
  },
  {
   "cell_type": "markdown",
   "id": "35645702",
   "metadata": {},
   "source": [
    "<b>Answer: 520000</b>"
   ]
  },
  {
   "cell_type": "markdown",
   "id": "695a60d7",
   "metadata": {},
   "source": [
    "### 5. Which country has the lowest rate of literacy in 2020?"
   ]
  },
  {
   "cell_type": "markdown",
   "id": "c9f83873",
   "metadata": {},
   "source": [
    "Meninjau `Indicator Name` sesuai keyword dari pertanyaan."
   ]
  },
  {
   "cell_type": "code",
   "execution_count": 19,
   "id": "120d05a7",
   "metadata": {},
   "outputs": [
    {
     "name": "stdout",
     "output_type": "stream",
     "text": [
      "['Literacy rate, adult female (% of females ages 15 and above)'\n",
      " 'Literacy rate, adult male (% of males ages 15 and above)'\n",
      " 'Literacy rate, adult total (% of people ages 15 and above)'\n",
      " 'Literacy rate, youth male (% of males ages 15-24)'\n",
      " 'Literacy rate, youth total (% of people ages 15-24)']\n"
     ]
    }
   ],
   "source": [
    "print(world[world['Indicator Name'].str.contains('literacy', case = False)]['Indicator Name'].unique())"
   ]
  },
  {
   "cell_type": "code",
   "execution_count": 20,
   "id": "7a70fb72",
   "metadata": {},
   "outputs": [
    {
     "data": {
      "text/html": [
       "<div>\n",
       "<style scoped>\n",
       "    .dataframe tbody tr th:only-of-type {\n",
       "        vertical-align: middle;\n",
       "    }\n",
       "\n",
       "    .dataframe tbody tr th {\n",
       "        vertical-align: top;\n",
       "    }\n",
       "\n",
       "    .dataframe thead th {\n",
       "        text-align: right;\n",
       "    }\n",
       "</style>\n",
       "<table border=\"1\" class=\"dataframe\">\n",
       "  <thead>\n",
       "    <tr style=\"text-align: right;\">\n",
       "      <th></th>\n",
       "      <th>Country Name</th>\n",
       "      <th>Indicator Name</th>\n",
       "      <th>2020</th>\n",
       "    </tr>\n",
       "  </thead>\n",
       "  <tbody>\n",
       "    <tr>\n",
       "      <th>75566</th>\n",
       "      <td>Mali</td>\n",
       "      <td>Literacy rate, adult total (% of people ages 1...</td>\n",
       "      <td>30.761410</td>\n",
       "    </tr>\n",
       "    <tr>\n",
       "      <th>12503</th>\n",
       "      <td>Low income</td>\n",
       "      <td>Literacy rate, adult total (% of people ages 1...</td>\n",
       "      <td>61.368900</td>\n",
       "    </tr>\n",
       "    <tr>\n",
       "      <th>6770</th>\n",
       "      <td>Heavily indebted poor countries (HIPC)</td>\n",
       "      <td>Literacy rate, adult total (% of people ages 1...</td>\n",
       "      <td>63.050411</td>\n",
       "    </tr>\n",
       "  </tbody>\n",
       "</table>\n",
       "</div>"
      ],
      "text/plain": [
       "                                 Country Name  \\\n",
       "75566                                    Mali   \n",
       "12503                              Low income   \n",
       "6770   Heavily indebted poor countries (HIPC)   \n",
       "\n",
       "                                          Indicator Name       2020  \n",
       "75566  Literacy rate, adult total (% of people ages 1...  30.761410  \n",
       "12503  Literacy rate, adult total (% of people ages 1...  61.368900  \n",
       "6770   Literacy rate, adult total (% of people ages 1...  63.050411  "
      ]
     },
     "execution_count": 20,
     "metadata": {},
     "output_type": "execute_result"
    }
   ],
   "source": [
    "(world[world['Indicator Name'].str.contains('Literacy rate, adult total')]\n",
    " .loc[:, ['Country Name', 'Indicator Name', '2020']].sort_values('2020').head(3))"
   ]
  },
  {
   "cell_type": "markdown",
   "id": "0063b2a6",
   "metadata": {},
   "source": [
    "<b>Answer: Mali</b>"
   ]
  },
  {
   "cell_type": "markdown",
   "id": "42df7113",
   "metadata": {},
   "source": [
    "### 6. Which country has the highest total fertility rate in 2019?"
   ]
  },
  {
   "cell_type": "markdown",
   "id": "092c83ab",
   "metadata": {},
   "source": [
    "Meninjau `Indicator Name` sesuai keyword dari pertanyaan."
   ]
  },
  {
   "cell_type": "code",
   "execution_count": 21,
   "id": "caa73545",
   "metadata": {},
   "outputs": [
    {
     "name": "stdout",
     "output_type": "stream",
     "text": [
      "['Adolescent fertility rate (births per 1,000 women ages 15-19)'\n",
      " 'Fertility rate, total (births per woman)'\n",
      " 'Wanted fertility rate (births per woman)']\n"
     ]
    }
   ],
   "source": [
    "print(world[world['Indicator Name'].str.contains('fertility', case = False)]['Indicator Name'].unique())"
   ]
  },
  {
   "cell_type": "code",
   "execution_count": 22,
   "id": "bd9a3cf0",
   "metadata": {},
   "outputs": [
    {
     "data": {
      "text/html": [
       "<div>\n",
       "<style scoped>\n",
       "    .dataframe tbody tr th:only-of-type {\n",
       "        vertical-align: middle;\n",
       "    }\n",
       "\n",
       "    .dataframe tbody tr th {\n",
       "        vertical-align: top;\n",
       "    }\n",
       "\n",
       "    .dataframe thead th {\n",
       "        text-align: right;\n",
       "    }\n",
       "</style>\n",
       "<table border=\"1\" class=\"dataframe\">\n",
       "  <thead>\n",
       "    <tr style=\"text-align: right;\">\n",
       "      <th></th>\n",
       "      <th>Country Name</th>\n",
       "      <th>Indicator Name</th>\n",
       "      <th>2019</th>\n",
       "    </tr>\n",
       "  </thead>\n",
       "  <tbody>\n",
       "    <tr>\n",
       "      <th>84791</th>\n",
       "      <td>Niger</td>\n",
       "      <td>Fertility rate, total (births per woman)</td>\n",
       "      <td>6.824</td>\n",
       "    </tr>\n",
       "    <tr>\n",
       "      <th>99344</th>\n",
       "      <td>Somalia</td>\n",
       "      <td>Fertility rate, total (births per woman)</td>\n",
       "      <td>5.978</td>\n",
       "    </tr>\n",
       "    <tr>\n",
       "      <th>41132</th>\n",
       "      <td>Congo, Dem. Rep.</td>\n",
       "      <td>Fertility rate, total (births per woman)</td>\n",
       "      <td>5.819</td>\n",
       "    </tr>\n",
       "  </tbody>\n",
       "</table>\n",
       "</div>"
      ],
      "text/plain": [
       "           Country Name                            Indicator Name   2019\n",
       "84791             Niger  Fertility rate, total (births per woman)  6.824\n",
       "99344           Somalia  Fertility rate, total (births per woman)  5.978\n",
       "41132  Congo, Dem. Rep.  Fertility rate, total (births per woman)  5.819"
      ]
     },
     "execution_count": 22,
     "metadata": {},
     "output_type": "execute_result"
    }
   ],
   "source": [
    "(world[world['Indicator Name'].str.contains('Fertility rate, total')]\n",
    " .loc[:, ['Country Name', 'Indicator Name', '2019']].sort_values('2019', ascending = False).head(3))"
   ]
  },
  {
   "cell_type": "markdown",
   "id": "7291c8e2",
   "metadata": {},
   "source": [
    "<b>Answer: Niger</b>"
   ]
  },
  {
   "cell_type": "markdown",
   "id": "ed895877",
   "metadata": {},
   "source": [
    "### 7. Which country has the lowest rate of diabetes prevalence in 2021?"
   ]
  },
  {
   "cell_type": "markdown",
   "id": "e9ade1b6",
   "metadata": {},
   "source": [
    "Meninjau `Indicator Name` sesuai keyword dari pertanyaan."
   ]
  },
  {
   "cell_type": "code",
   "execution_count": 23,
   "id": "2d55eab6",
   "metadata": {},
   "outputs": [
    {
     "name": "stdout",
     "output_type": "stream",
     "text": [
      "['Diabetes prevalence (% of population ages 20 to 79)'\n",
      " 'Mortality from CVD, cancer, diabetes or CRD between exact ages 30 and 70 (%)'\n",
      " 'Mortality from CVD, cancer, diabetes or CRD between exact ages 30 and 70, female (%)'\n",
      " 'Mortality from CVD, cancer, diabetes or CRD between exact ages 30 and 70, male (%)']\n"
     ]
    }
   ],
   "source": [
    "print(world[world['Indicator Name'].str.contains('diabetes', case = False)]['Indicator Name'].unique())"
   ]
  },
  {
   "cell_type": "code",
   "execution_count": 24,
   "id": "74946812",
   "metadata": {},
   "outputs": [
    {
     "data": {
      "text/html": [
       "<div>\n",
       "<style scoped>\n",
       "    .dataframe tbody tr th:only-of-type {\n",
       "        vertical-align: middle;\n",
       "    }\n",
       "\n",
       "    .dataframe tbody tr th {\n",
       "        vertical-align: top;\n",
       "    }\n",
       "\n",
       "    .dataframe thead th {\n",
       "        text-align: right;\n",
       "    }\n",
       "</style>\n",
       "<table border=\"1\" class=\"dataframe\">\n",
       "  <thead>\n",
       "    <tr style=\"text-align: right;\">\n",
       "      <th></th>\n",
       "      <th>Country Name</th>\n",
       "      <th>Indicator Name</th>\n",
       "      <th>2021</th>\n",
       "    </tr>\n",
       "  </thead>\n",
       "  <tbody>\n",
       "    <tr>\n",
       "      <th>30531</th>\n",
       "      <td>Benin</td>\n",
       "      <td>Diabetes prevalence (% of population ages 20 t...</td>\n",
       "      <td>1.1</td>\n",
       "    </tr>\n",
       "    <tr>\n",
       "      <th>53022</th>\n",
       "      <td>Gambia, The</td>\n",
       "      <td>Diabetes prevalence (% of population ages 20 t...</td>\n",
       "      <td>1.9</td>\n",
       "    </tr>\n",
       "    <tr>\n",
       "      <th>116967</th>\n",
       "      <td>Zimbabwe</td>\n",
       "      <td>Diabetes prevalence (% of population ages 20 t...</td>\n",
       "      <td>2.1</td>\n",
       "    </tr>\n",
       "  </tbody>\n",
       "</table>\n",
       "</div>"
      ],
      "text/plain": [
       "       Country Name                                     Indicator Name  2021\n",
       "30531         Benin  Diabetes prevalence (% of population ages 20 t...   1.1\n",
       "53022   Gambia, The  Diabetes prevalence (% of population ages 20 t...   1.9\n",
       "116967     Zimbabwe  Diabetes prevalence (% of population ages 20 t...   2.1"
      ]
     },
     "execution_count": 24,
     "metadata": {},
     "output_type": "execute_result"
    }
   ],
   "source": [
    "(world[world['Indicator Name'].str.contains('Diabetes prevalence')]\n",
    " .loc[:, ['Country Name', 'Indicator Name', '2021']].sort_values('2021').head(3))"
   ]
  },
  {
   "cell_type": "markdown",
   "id": "69ef9924",
   "metadata": {},
   "source": [
    "<b>Answer: Benin</b>"
   ]
  },
  {
   "cell_type": "markdown",
   "id": "c74cebf8",
   "metadata": {},
   "source": [
    "### 8. Which country has the lowest prevalence of overweight adults in 2016?"
   ]
  },
  {
   "cell_type": "markdown",
   "id": "06a9a48a",
   "metadata": {},
   "source": [
    "Meninjau `Indicator Name` sesuai keyword dari pertanyaan."
   ]
  },
  {
   "cell_type": "code",
   "execution_count": 25,
   "id": "922f3692",
   "metadata": {},
   "outputs": [
    {
     "name": "stdout",
     "output_type": "stream",
     "text": [
      "['Prevalence of overweight (% of adults)'\n",
      " 'Prevalence of overweight (% of children under 5)'\n",
      " 'Prevalence of overweight (modeled estimate, % of children under 5)'\n",
      " 'Prevalence of overweight, female (% of children under 5)'\n",
      " 'Prevalence of overweight, female (% of female adults)'\n",
      " 'Prevalence of overweight, male (% of children under 5)'\n",
      " 'Prevalence of overweight, male (% of male adults)']\n"
     ]
    }
   ],
   "source": [
    "print(world[world['Indicator Name'].str.contains('overweight', case = False)]['Indicator Name'].unique())"
   ]
  },
  {
   "cell_type": "code",
   "execution_count": 26,
   "id": "ef6ba619",
   "metadata": {},
   "outputs": [
    {
     "data": {
      "text/html": [
       "<div>\n",
       "<style scoped>\n",
       "    .dataframe tbody tr th:only-of-type {\n",
       "        vertical-align: middle;\n",
       "    }\n",
       "\n",
       "    .dataframe tbody tr th {\n",
       "        vertical-align: top;\n",
       "    }\n",
       "\n",
       "    .dataframe thead th {\n",
       "        text-align: right;\n",
       "    }\n",
       "</style>\n",
       "<table border=\"1\" class=\"dataframe\">\n",
       "  <thead>\n",
       "    <tr style=\"text-align: right;\">\n",
       "      <th></th>\n",
       "      <th>Country Name</th>\n",
       "      <th>Indicator Name</th>\n",
       "      <th>2016</th>\n",
       "    </tr>\n",
       "  </thead>\n",
       "  <tbody>\n",
       "    <tr>\n",
       "      <th>115005</th>\n",
       "      <td>Vietnam</td>\n",
       "      <td>Prevalence of overweight (% of adults)</td>\n",
       "      <td>18.3</td>\n",
       "    </tr>\n",
       "    <tr>\n",
       "      <th>61203</th>\n",
       "      <td>India</td>\n",
       "      <td>Prevalence of overweight (% of adults)</td>\n",
       "      <td>19.7</td>\n",
       "    </tr>\n",
       "    <tr>\n",
       "      <th>28569</th>\n",
       "      <td>Bangladesh</td>\n",
       "      <td>Prevalence of overweight (% of adults)</td>\n",
       "      <td>20.0</td>\n",
       "    </tr>\n",
       "  </tbody>\n",
       "</table>\n",
       "</div>"
      ],
      "text/plain": [
       "       Country Name                          Indicator Name  2016\n",
       "115005      Vietnam  Prevalence of overweight (% of adults)  18.3\n",
       "61203         India  Prevalence of overweight (% of adults)  19.7\n",
       "28569    Bangladesh  Prevalence of overweight (% of adults)  20.0"
      ]
     },
     "execution_count": 26,
     "metadata": {},
     "output_type": "execute_result"
    }
   ],
   "source": [
    "(world.loc[world['Indicator Name'] == 'Prevalence of overweight (% of adults)',\n",
    "           ['Country Name', 'Indicator Name', '2016']].sort_values('2016').head(3))"
   ]
  },
  {
   "cell_type": "markdown",
   "id": "5be8ad5d",
   "metadata": {},
   "source": [
    "<b>Answer: Vietnam</b>"
   ]
  },
  {
   "cell_type": "markdown",
   "id": "b5352a91",
   "metadata": {},
   "source": [
    "### 9. How many Indonesian children (age <15) are living with HIV in 2020?"
   ]
  },
  {
   "cell_type": "markdown",
   "id": "797bc938",
   "metadata": {},
   "source": [
    "Meninjau `Indicator Name` sesuai keyword dari pertanyaan."
   ]
  },
  {
   "cell_type": "code",
   "execution_count": 27,
   "id": "e7b512a7",
   "metadata": {},
   "outputs": [
    {
     "name": "stdout",
     "output_type": "stream",
     "text": [
      "['Adults (ages 15+) and children (0-14 years) living with HIV'\n",
      " 'Adults (ages 15+) and children (ages 0-14) newly infected with HIV'\n",
      " 'Adults (ages 15+) living with HIV'\n",
      " 'Adults (ages 15-49) newly infected with HIV'\n",
      " 'Antiretroviral therapy coverage (% of people living with HIV)'\n",
      " 'Antiretroviral therapy coverage for PMTCT (% of pregnant women living with HIV)'\n",
      " 'Children (0-14) living with HIV'\n",
      " 'Children (ages 0-14) newly infected with HIV'\n",
      " 'Children orphaned by HIV/AIDS'\n",
      " 'Comprehensive correct knowledge of HIV/AIDS, ages 15-24, female (2 prevent ways and reject 3 misconceptions)'\n",
      " 'Comprehensive correct knowledge of HIV/AIDS, ages 15-24, male (2 prevent ways and reject 3 misconceptions)'\n",
      " 'Comprehensive correct knowledge of HIV/AIDS, ages 15-49, female (2 prevent ways and reject 3 misconceptions)'\n",
      " 'Comprehensive correct knowledge of HIV/AIDS, ages 15-49, male (2 prevent ways and reject 3 misconceptions)'\n",
      " 'Incidence of HIV, ages 15-24 (per 1,000 uninfected population ages 15-24)'\n",
      " 'Incidence of HIV, ages 15-49 (per 1,000 uninfected population ages 15-49)'\n",
      " 'Incidence of HIV, ages 50+ (per 1,000 uninfected population ages 50+)'\n",
      " 'Incidence of HIV, all (per 1,000 uninfected population)'\n",
      " 'Prevalence of HIV, female (% ages 15-24)'\n",
      " 'Prevalence of HIV, male (% ages 15-24)'\n",
      " 'Prevalence of HIV, total (% of population ages 15-49)'\n",
      " \"Women's share of population ages 15+ living with HIV (%)\"\n",
      " 'Young people (ages 15-24) newly infected with HIV']\n"
     ]
    }
   ],
   "source": [
    "print(world[world['Indicator Name'].str.contains('hiv', case = False)]['Indicator Name'].unique())"
   ]
  },
  {
   "cell_type": "code",
   "execution_count": 28,
   "id": "c96332f1",
   "metadata": {},
   "outputs": [
    {
     "data": {
      "text/html": [
       "<div>\n",
       "<style scoped>\n",
       "    .dataframe tbody tr th:only-of-type {\n",
       "        vertical-align: middle;\n",
       "    }\n",
       "\n",
       "    .dataframe tbody tr th {\n",
       "        vertical-align: top;\n",
       "    }\n",
       "\n",
       "    .dataframe thead th {\n",
       "        text-align: right;\n",
       "    }\n",
       "</style>\n",
       "<table border=\"1\" class=\"dataframe\">\n",
       "  <thead>\n",
       "    <tr style=\"text-align: right;\">\n",
       "      <th></th>\n",
       "      <th>Country Name</th>\n",
       "      <th>Indicator Name</th>\n",
       "      <th>2020</th>\n",
       "    </tr>\n",
       "  </thead>\n",
       "  <tbody>\n",
       "    <tr>\n",
       "      <th>61371</th>\n",
       "      <td>Indonesia</td>\n",
       "      <td>Children (0-14) living with HIV</td>\n",
       "      <td>18000.0</td>\n",
       "    </tr>\n",
       "  </tbody>\n",
       "</table>\n",
       "</div>"
      ],
      "text/plain": [
       "      Country Name                   Indicator Name     2020\n",
       "61371    Indonesia  Children (0-14) living with HIV  18000.0"
      ]
     },
     "execution_count": 28,
     "metadata": {},
     "output_type": "execute_result"
    }
   ],
   "source": [
    "(world.loc[(world['Country Name'] == 'Indonesia') &\n",
    "           (world['Indicator Name'] == 'Children (0-14) living with HIV'),\n",
    "           ['Country Name', 'Indicator Name', '2020']])"
   ]
  },
  {
   "cell_type": "markdown",
   "id": "532167d6",
   "metadata": {},
   "source": [
    "<b>Answer: 18000</b>"
   ]
  },
  {
   "cell_type": "markdown",
   "id": "614c755e",
   "metadata": {},
   "source": [
    "### 10. Which country has the highest probability of dying per 1000 among children ages 5-9 years in 2020?"
   ]
  },
  {
   "cell_type": "markdown",
   "id": "76b8f176",
   "metadata": {},
   "source": [
    "Meninjau `Indicator Name` sesuai keyword dari pertanyaan."
   ]
  },
  {
   "cell_type": "code",
   "execution_count": 29,
   "id": "737c2303",
   "metadata": {},
   "outputs": [
    {
     "name": "stdout",
     "output_type": "stream",
     "text": [
      "['Probability of dying among adolescents ages 10-14 years (per 1,000)'\n",
      " 'Probability of dying among adolescents ages 10-19 years (per 1,000)'\n",
      " 'Probability of dying among adolescents ages 15-19 years (per 1,000)'\n",
      " 'Probability of dying among children ages 5-9 years (per 1,000)'\n",
      " 'Probability of dying among youth ages 20-24 years (per 1,000)']\n"
     ]
    }
   ],
   "source": [
    "print(world[world['Indicator Name'].str.contains('dying', case = False)]['Indicator Name'].unique())"
   ]
  },
  {
   "cell_type": "code",
   "execution_count": 30,
   "id": "4ca455a3",
   "metadata": {},
   "outputs": [
    {
     "data": {
      "text/html": [
       "<div>\n",
       "<style scoped>\n",
       "    .dataframe tbody tr th:only-of-type {\n",
       "        vertical-align: middle;\n",
       "    }\n",
       "\n",
       "    .dataframe tbody tr th {\n",
       "        vertical-align: top;\n",
       "    }\n",
       "\n",
       "    .dataframe thead th {\n",
       "        text-align: right;\n",
       "    }\n",
       "</style>\n",
       "<table border=\"1\" class=\"dataframe\">\n",
       "  <thead>\n",
       "    <tr style=\"text-align: right;\">\n",
       "      <th></th>\n",
       "      <th>Country Name</th>\n",
       "      <th>Indicator Name</th>\n",
       "      <th>2020</th>\n",
       "    </tr>\n",
       "  </thead>\n",
       "  <tbody>\n",
       "    <tr>\n",
       "      <th>99598</th>\n",
       "      <td>Somalia</td>\n",
       "      <td>Probability of dying among children ages 5-9 y...</td>\n",
       "      <td>16.1</td>\n",
       "    </tr>\n",
       "    <tr>\n",
       "      <th>96952</th>\n",
       "      <td>Sierra Leone</td>\n",
       "      <td>Probability of dying among children ages 5-9 y...</td>\n",
       "      <td>15.9</td>\n",
       "    </tr>\n",
       "    <tr>\n",
       "      <th>85045</th>\n",
       "      <td>Niger</td>\n",
       "      <td>Probability of dying among children ages 5-9 y...</td>\n",
       "      <td>15.7</td>\n",
       "    </tr>\n",
       "  </tbody>\n",
       "</table>\n",
       "</div>"
      ],
      "text/plain": [
       "       Country Name                                     Indicator Name  2020\n",
       "99598       Somalia  Probability of dying among children ages 5-9 y...  16.1\n",
       "96952  Sierra Leone  Probability of dying among children ages 5-9 y...  15.9\n",
       "85045         Niger  Probability of dying among children ages 5-9 y...  15.7"
      ]
     },
     "execution_count": 30,
     "metadata": {},
     "output_type": "execute_result"
    }
   ],
   "source": [
    "(world[world['Indicator Name'].str.contains('dying among children')]\n",
    " .loc[:, ['Country Name', 'Indicator Name', '2020']].sort_values('2020', ascending = False).head(3))"
   ]
  },
  {
   "cell_type": "markdown",
   "id": "440b624b",
   "metadata": {},
   "source": [
    "<b>Answer: Somalia</b>"
   ]
  },
  {
   "cell_type": "markdown",
   "id": "407b28dd",
   "metadata": {},
   "source": [
    "### 11. Which country has the lowest total fertility rate in 2019?"
   ]
  },
  {
   "cell_type": "markdown",
   "id": "593093a7",
   "metadata": {},
   "source": [
    "Meninjau `Indicator Name` sesuai keyword dari pertanyaan."
   ]
  },
  {
   "cell_type": "code",
   "execution_count": 31,
   "id": "1baab716",
   "metadata": {},
   "outputs": [
    {
     "name": "stdout",
     "output_type": "stream",
     "text": [
      "['Adolescent fertility rate (births per 1,000 women ages 15-19)'\n",
      " 'Fertility rate, total (births per woman)'\n",
      " 'Wanted fertility rate (births per woman)']\n"
     ]
    }
   ],
   "source": [
    "print(world[world['Indicator Name'].str.contains('fertility', case = False)]['Indicator Name'].unique())"
   ]
  },
  {
   "cell_type": "code",
   "execution_count": 32,
   "id": "a77d741f",
   "metadata": {},
   "outputs": [
    {
     "data": {
      "text/html": [
       "<div>\n",
       "<style scoped>\n",
       "    .dataframe tbody tr th:only-of-type {\n",
       "        vertical-align: middle;\n",
       "    }\n",
       "\n",
       "    .dataframe tbody tr th {\n",
       "        vertical-align: top;\n",
       "    }\n",
       "\n",
       "    .dataframe thead th {\n",
       "        text-align: right;\n",
       "    }\n",
       "</style>\n",
       "<table border=\"1\" class=\"dataframe\">\n",
       "  <thead>\n",
       "    <tr style=\"text-align: right;\">\n",
       "      <th></th>\n",
       "      <th>Country Name</th>\n",
       "      <th>Indicator Name</th>\n",
       "      <th>2019</th>\n",
       "    </tr>\n",
       "  </thead>\n",
       "  <tbody>\n",
       "    <tr>\n",
       "      <th>67592</th>\n",
       "      <td>Korea, Rep.</td>\n",
       "      <td>Fertility rate, total (births per woman)</td>\n",
       "      <td>0.918</td>\n",
       "    </tr>\n",
       "    <tr>\n",
       "      <th>91406</th>\n",
       "      <td>Puerto Rico</td>\n",
       "      <td>Fertility rate, total (births per woman)</td>\n",
       "      <td>1.035</td>\n",
       "    </tr>\n",
       "    <tr>\n",
       "      <th>59654</th>\n",
       "      <td>Hong Kong SAR, China</td>\n",
       "      <td>Fertility rate, total (births per woman)</td>\n",
       "      <td>1.051</td>\n",
       "    </tr>\n",
       "  </tbody>\n",
       "</table>\n",
       "</div>"
      ],
      "text/plain": [
       "               Country Name                            Indicator Name   2019\n",
       "67592           Korea, Rep.  Fertility rate, total (births per woman)  0.918\n",
       "91406           Puerto Rico  Fertility rate, total (births per woman)  1.035\n",
       "59654  Hong Kong SAR, China  Fertility rate, total (births per woman)  1.051"
      ]
     },
     "execution_count": 32,
     "metadata": {},
     "output_type": "execute_result"
    }
   ],
   "source": [
    "(world[world['Indicator Name'].str.contains('Fertility rate, total')]\n",
    " .loc[:, ['Country Name', 'Indicator Name', '2019']].sort_values('2019').head(3))"
   ]
  },
  {
   "cell_type": "markdown",
   "id": "df713146",
   "metadata": {},
   "source": [
    "<b>Answer: Korea, Rep.</b>"
   ]
  },
  {
   "cell_type": "markdown",
   "id": "a49296a0",
   "metadata": {},
   "source": [
    "### 12. Which country has 98% of their pregnant women receiving prenatal care in 2017?"
   ]
  },
  {
   "cell_type": "markdown",
   "id": "294e1b86",
   "metadata": {},
   "source": [
    "Meninjau `Indicator Name` sesuai keyword dari pertanyaan."
   ]
  },
  {
   "cell_type": "code",
   "execution_count": 33,
   "id": "1f7852a6",
   "metadata": {},
   "outputs": [
    {
     "name": "stdout",
     "output_type": "stream",
     "text": [
      "['Antiretroviral therapy coverage for PMTCT (% of pregnant women living with HIV)'\n",
      " 'Intermittent preventive treatment (IPT) of malaria in pregnancy (% of pregnant women)'\n",
      " 'Pregnant women receiving prenatal care (%)'\n",
      " 'Pregnant women receiving prenatal care of at least four visits (% of pregnant women)'\n",
      " 'Prevalence of anemia among non-pregnant women (% of women ages 15-49)'\n",
      " 'Prevalence of anemia among pregnant women (%)'\n",
      " 'Teenage mothers (% of women ages 15-19 who have had children or are currently pregnant)']\n"
     ]
    }
   ],
   "source": [
    "print(world[world['Indicator Name'].str.contains('pregnant', case = False)]['Indicator Name'].unique())"
   ]
  },
  {
   "cell_type": "code",
   "execution_count": 34,
   "id": "69dae35c",
   "metadata": {},
   "outputs": [
    {
     "data": {
      "text/html": [
       "<div>\n",
       "<style scoped>\n",
       "    .dataframe tbody tr th:only-of-type {\n",
       "        vertical-align: middle;\n",
       "    }\n",
       "\n",
       "    .dataframe tbody tr th {\n",
       "        vertical-align: top;\n",
       "    }\n",
       "\n",
       "    .dataframe thead th {\n",
       "        text-align: right;\n",
       "    }\n",
       "</style>\n",
       "<table border=\"1\" class=\"dataframe\">\n",
       "  <thead>\n",
       "    <tr style=\"text-align: right;\">\n",
       "      <th></th>\n",
       "      <th>Country Name</th>\n",
       "      <th>Indicator Name</th>\n",
       "      <th>2017</th>\n",
       "    </tr>\n",
       "  </thead>\n",
       "  <tbody>\n",
       "    <tr>\n",
       "      <th>106170</th>\n",
       "      <td>Tanzania</td>\n",
       "      <td>Pregnant women receiving prenatal care (%)</td>\n",
       "      <td>98.0</td>\n",
       "    </tr>\n",
       "  </tbody>\n",
       "</table>\n",
       "</div>"
      ],
      "text/plain": [
       "       Country Name                              Indicator Name  2017\n",
       "106170     Tanzania  Pregnant women receiving prenatal care (%)  98.0"
      ]
     },
     "execution_count": 34,
     "metadata": {},
     "output_type": "execute_result"
    }
   ],
   "source": [
    "(world.loc[(world['Indicator Name'] == 'Pregnant women receiving prenatal care (%)') & (world['2017'] == 98),\n",
    "           ['Country Name', 'Indicator Name', '2017']])"
   ]
  },
  {
   "cell_type": "markdown",
   "id": "878b83ad",
   "metadata": {},
   "source": [
    "<b>Answer: Tanzania</b>"
   ]
  },
  {
   "cell_type": "markdown",
   "id": "a5d6a0fa",
   "metadata": {},
   "source": [
    "### 13. Which country has the highest prevalence of overweight adults in 2016?"
   ]
  },
  {
   "cell_type": "markdown",
   "id": "c0b106b7",
   "metadata": {},
   "source": [
    "Meninjau `Indicator Name` sesuai keyword dari pertanyaan."
   ]
  },
  {
   "cell_type": "code",
   "execution_count": 35,
   "id": "da85dfd1",
   "metadata": {},
   "outputs": [
    {
     "name": "stdout",
     "output_type": "stream",
     "text": [
      "['Prevalence of overweight (% of adults)'\n",
      " 'Prevalence of overweight (% of children under 5)'\n",
      " 'Prevalence of overweight (modeled estimate, % of children under 5)'\n",
      " 'Prevalence of overweight, female (% of children under 5)'\n",
      " 'Prevalence of overweight, female (% of female adults)'\n",
      " 'Prevalence of overweight, male (% of children under 5)'\n",
      " 'Prevalence of overweight, male (% of male adults)']\n"
     ]
    }
   ],
   "source": [
    "print(world[world['Indicator Name'].str.contains('overweight', case = False)]['Indicator Name'].unique())"
   ]
  },
  {
   "cell_type": "code",
   "execution_count": 36,
   "id": "c50cd5af",
   "metadata": {},
   "outputs": [
    {
     "data": {
      "text/html": [
       "<div>\n",
       "<style scoped>\n",
       "    .dataframe tbody tr th:only-of-type {\n",
       "        vertical-align: middle;\n",
       "    }\n",
       "\n",
       "    .dataframe tbody tr th {\n",
       "        vertical-align: top;\n",
       "    }\n",
       "\n",
       "    .dataframe thead th {\n",
       "        text-align: right;\n",
       "    }\n",
       "</style>\n",
       "<table border=\"1\" class=\"dataframe\">\n",
       "  <thead>\n",
       "    <tr style=\"text-align: right;\">\n",
       "      <th></th>\n",
       "      <th>Country Name</th>\n",
       "      <th>Indicator Name</th>\n",
       "      <th>2016</th>\n",
       "    </tr>\n",
       "  </thead>\n",
       "  <tbody>\n",
       "    <tr>\n",
       "      <th>82371</th>\n",
       "      <td>Nauru</td>\n",
       "      <td>Prevalence of overweight (% of adults)</td>\n",
       "      <td>88.5</td>\n",
       "    </tr>\n",
       "    <tr>\n",
       "      <th>88104</th>\n",
       "      <td>Palau</td>\n",
       "      <td>Prevalence of overweight (% of adults)</td>\n",
       "      <td>85.1</td>\n",
       "    </tr>\n",
       "    <tr>\n",
       "      <th>76638</th>\n",
       "      <td>Marshall Islands</td>\n",
       "      <td>Prevalence of overweight (% of adults)</td>\n",
       "      <td>83.5</td>\n",
       "    </tr>\n",
       "  </tbody>\n",
       "</table>\n",
       "</div>"
      ],
      "text/plain": [
       "           Country Name                          Indicator Name  2016\n",
       "82371             Nauru  Prevalence of overweight (% of adults)  88.5\n",
       "88104             Palau  Prevalence of overweight (% of adults)  85.1\n",
       "76638  Marshall Islands  Prevalence of overweight (% of adults)  83.5"
      ]
     },
     "execution_count": 36,
     "metadata": {},
     "output_type": "execute_result"
    }
   ],
   "source": [
    "(world.loc[world['Indicator Name'] == 'Prevalence of overweight (% of adults)',\n",
    "           ['Country Name', 'Indicator Name', '2016']].sort_values('2016', ascending = False).head(3))"
   ]
  },
  {
   "cell_type": "markdown",
   "id": "6ff1735d",
   "metadata": {},
   "source": [
    "<b>Answer: Nauru</b>"
   ]
  },
  {
   "cell_type": "markdown",
   "id": "e3f3855a",
   "metadata": {},
   "source": [
    "### 14. Which country is more likely to have a measles outbreak due to the lowest rate of immunization in 2019?"
   ]
  },
  {
   "cell_type": "markdown",
   "id": "d89f5009",
   "metadata": {},
   "source": [
    "Meninjau `Indicator Name` sesuai keyword dari pertanyaan."
   ]
  },
  {
   "cell_type": "code",
   "execution_count": 37,
   "id": "80c80dad",
   "metadata": {},
   "outputs": [
    {
     "name": "stdout",
     "output_type": "stream",
     "text": [
      "['Immunization, measles (% of children ages 12-23 months)'\n",
      " 'Immunization, measles second dose (% of children by the nationally recommended age)']\n"
     ]
    }
   ],
   "source": [
    "print(world[world['Indicator Name'].str.contains('measles', case = False)]['Indicator Name'].unique())"
   ]
  },
  {
   "cell_type": "code",
   "execution_count": 38,
   "id": "082e84d8",
   "metadata": {},
   "outputs": [
    {
     "data": {
      "text/html": [
       "<div>\n",
       "<style scoped>\n",
       "    .dataframe tbody tr th:only-of-type {\n",
       "        vertical-align: middle;\n",
       "    }\n",
       "\n",
       "    .dataframe tbody tr th {\n",
       "        vertical-align: top;\n",
       "    }\n",
       "\n",
       "    .dataframe thead th {\n",
       "        text-align: right;\n",
       "    }\n",
       "</style>\n",
       "<table border=\"1\" class=\"dataframe\">\n",
       "  <thead>\n",
       "    <tr style=\"text-align: right;\">\n",
       "      <th></th>\n",
       "      <th>Country Name</th>\n",
       "      <th>Indicator Name</th>\n",
       "      <th>2019</th>\n",
       "    </tr>\n",
       "  </thead>\n",
       "  <tbody>\n",
       "    <tr>\n",
       "      <th>88776</th>\n",
       "      <td>Papua New Guinea</td>\n",
       "      <td>Immunization, measles (% of children ages 12-2...</td>\n",
       "      <td>37.0</td>\n",
       "    </tr>\n",
       "    <tr>\n",
       "      <th>38502</th>\n",
       "      <td>Chad</td>\n",
       "      <td>Immunization, measles (% of children ages 12-2...</td>\n",
       "      <td>41.0</td>\n",
       "    </tr>\n",
       "    <tr>\n",
       "      <th>79956</th>\n",
       "      <td>Montenegro</td>\n",
       "      <td>Immunization, measles (% of children ages 12-2...</td>\n",
       "      <td>42.0</td>\n",
       "    </tr>\n",
       "  </tbody>\n",
       "</table>\n",
       "</div>"
      ],
      "text/plain": [
       "           Country Name                                     Indicator Name  \\\n",
       "88776  Papua New Guinea  Immunization, measles (% of children ages 12-2...   \n",
       "38502              Chad  Immunization, measles (% of children ages 12-2...   \n",
       "79956        Montenegro  Immunization, measles (% of children ages 12-2...   \n",
       "\n",
       "       2019  \n",
       "88776  37.0  \n",
       "38502  41.0  \n",
       "79956  42.0  "
      ]
     },
     "execution_count": 38,
     "metadata": {},
     "output_type": "execute_result"
    }
   ],
   "source": [
    "(world.loc[world['Indicator Name'] == 'Immunization, measles (% of children ages 12-23 months)',\n",
    "           ['Country Name', 'Indicator Name', '2019']].sort_values('2019').head(3))"
   ]
  },
  {
   "cell_type": "markdown",
   "id": "8842e37d",
   "metadata": {},
   "source": [
    "<b>Answer: Papua New Guinea</b>"
   ]
  },
  {
   "cell_type": "markdown",
   "id": "04aeeeaf",
   "metadata": {},
   "source": [
    "### 15. How much female age at first marriage in Slovenia, in 2018?"
   ]
  },
  {
   "cell_type": "markdown",
   "id": "d0a0d9d6",
   "metadata": {},
   "source": [
    "Meninjau `Indicator Name` sesuai keyword dari pertanyaan."
   ]
  },
  {
   "cell_type": "code",
   "execution_count": 39,
   "id": "730c069e",
   "metadata": {},
   "outputs": [
    {
     "name": "stdout",
     "output_type": "stream",
     "text": [
      "['Age at first marriage, female' 'Age at first marriage, male']\n"
     ]
    }
   ],
   "source": [
    "print(world[world['Indicator Name'].str.contains('marriage', case = False)]['Indicator Name'].unique())"
   ]
  },
  {
   "cell_type": "code",
   "execution_count": 40,
   "id": "e8d97e57",
   "metadata": {},
   "outputs": [
    {
     "data": {
      "text/html": [
       "<div>\n",
       "<style scoped>\n",
       "    .dataframe tbody tr th:only-of-type {\n",
       "        vertical-align: middle;\n",
       "    }\n",
       "\n",
       "    .dataframe tbody tr th {\n",
       "        vertical-align: top;\n",
       "    }\n",
       "\n",
       "    .dataframe thead th {\n",
       "        text-align: right;\n",
       "    }\n",
       "</style>\n",
       "<table border=\"1\" class=\"dataframe\">\n",
       "  <thead>\n",
       "    <tr style=\"text-align: right;\">\n",
       "      <th></th>\n",
       "      <th>Country Name</th>\n",
       "      <th>Indicator Name</th>\n",
       "      <th>2018</th>\n",
       "    </tr>\n",
       "  </thead>\n",
       "  <tbody>\n",
       "    <tr>\n",
       "      <th>98348</th>\n",
       "      <td>Slovenia</td>\n",
       "      <td>Age at first marriage, female</td>\n",
       "      <td>34.0</td>\n",
       "    </tr>\n",
       "  </tbody>\n",
       "</table>\n",
       "</div>"
      ],
      "text/plain": [
       "      Country Name                 Indicator Name  2018\n",
       "98348     Slovenia  Age at first marriage, female  34.0"
      ]
     },
     "execution_count": 40,
     "metadata": {},
     "output_type": "execute_result"
    }
   ],
   "source": [
    "(world[world['Indicator Name'].str.contains('marriage, female')]\n",
    " .loc[world['Country Name'] == 'Slovenia', ['Country Name', 'Indicator Name', '2018']])"
   ]
  },
  {
   "cell_type": "markdown",
   "id": "25c72380",
   "metadata": {},
   "source": [
    "<b>Answer: 34</b>"
   ]
  },
  {
   "cell_type": "markdown",
   "id": "c5499d36",
   "metadata": {},
   "source": [
    "### 16. Which country has the highest rate of mortality by road traffic injury in 2019?"
   ]
  },
  {
   "cell_type": "markdown",
   "id": "8f1a7349",
   "metadata": {},
   "source": [
    "Meninjau `Indicator Name` sesuai keyword dari pertanyaan."
   ]
  },
  {
   "cell_type": "code",
   "execution_count": 41,
   "id": "296dab71",
   "metadata": {},
   "outputs": [
    {
     "name": "stdout",
     "output_type": "stream",
     "text": [
      "['Mortality caused by road traffic injury (per 100,000 people)'\n",
      " 'Mortality caused by road traffic injury, female (per 100,000 female population)'\n",
      " 'Mortality caused by road traffic injury, male (per 100,000 male population)']\n"
     ]
    }
   ],
   "source": [
    "print(world[world['Indicator Name'].str.contains('traffic', case = False)]['Indicator Name'].unique())"
   ]
  },
  {
   "cell_type": "code",
   "execution_count": 42,
   "id": "123aaf0b",
   "metadata": {},
   "outputs": [
    {
     "data": {
      "text/html": [
       "<div>\n",
       "<style scoped>\n",
       "    .dataframe tbody tr th:only-of-type {\n",
       "        vertical-align: middle;\n",
       "    }\n",
       "\n",
       "    .dataframe tbody tr th {\n",
       "        vertical-align: top;\n",
       "    }\n",
       "\n",
       "    .dataframe thead th {\n",
       "        text-align: right;\n",
       "    }\n",
       "</style>\n",
       "<table border=\"1\" class=\"dataframe\">\n",
       "  <thead>\n",
       "    <tr style=\"text-align: right;\">\n",
       "      <th></th>\n",
       "      <th>Country Name</th>\n",
       "      <th>Indicator Name</th>\n",
       "      <th>2019</th>\n",
       "    </tr>\n",
       "  </thead>\n",
       "  <tbody>\n",
       "    <tr>\n",
       "      <th>46468</th>\n",
       "      <td>Dominican Republic</td>\n",
       "      <td>Mortality caused by road traffic injury (per 1...</td>\n",
       "      <td>64.6</td>\n",
       "    </tr>\n",
       "    <tr>\n",
       "      <th>117028</th>\n",
       "      <td>Zimbabwe</td>\n",
       "      <td>Mortality caused by road traffic injury (per 1...</td>\n",
       "      <td>41.2</td>\n",
       "    </tr>\n",
       "    <tr>\n",
       "      <th>114382</th>\n",
       "      <td>Venezuela, RB</td>\n",
       "      <td>Mortality caused by road traffic injury (per 1...</td>\n",
       "      <td>39.0</td>\n",
       "    </tr>\n",
       "  </tbody>\n",
       "</table>\n",
       "</div>"
      ],
      "text/plain": [
       "              Country Name                                     Indicator Name  \\\n",
       "46468   Dominican Republic  Mortality caused by road traffic injury (per 1...   \n",
       "117028            Zimbabwe  Mortality caused by road traffic injury (per 1...   \n",
       "114382       Venezuela, RB  Mortality caused by road traffic injury (per 1...   \n",
       "\n",
       "        2019  \n",
       "46468   64.6  \n",
       "117028  41.2  \n",
       "114382  39.0  "
      ]
     },
     "execution_count": 42,
     "metadata": {},
     "output_type": "execute_result"
    }
   ],
   "source": [
    "(world.loc[world['Indicator Name'] == 'Mortality caused by road traffic injury (per 100,000 people)',\n",
    "           ['Country Name', 'Indicator Name', '2019']].sort_values('2019', ascending = False).head(3))"
   ]
  },
  {
   "cell_type": "markdown",
   "id": "346f4932",
   "metadata": {},
   "source": [
    "<b>Answer: Dominican Republic</b>"
   ]
  },
  {
   "cell_type": "markdown",
   "id": "f1bd53b5",
   "metadata": {},
   "source": [
    "### 17. Which country has 67% of their pregnant women receiving prenatal care in 2018?"
   ]
  },
  {
   "cell_type": "markdown",
   "id": "81097734",
   "metadata": {},
   "source": [
    "Meninjau `Indicator Name` sesuai keyword dari pertanyaan."
   ]
  },
  {
   "cell_type": "code",
   "execution_count": 43,
   "id": "a4745f9f",
   "metadata": {},
   "outputs": [
    {
     "name": "stdout",
     "output_type": "stream",
     "text": [
      "['Antiretroviral therapy coverage for PMTCT (% of pregnant women living with HIV)'\n",
      " 'Intermittent preventive treatment (IPT) of malaria in pregnancy (% of pregnant women)'\n",
      " 'Pregnant women receiving prenatal care (%)'\n",
      " 'Pregnant women receiving prenatal care of at least four visits (% of pregnant women)'\n",
      " 'Prevalence of anemia among non-pregnant women (% of women ages 15-49)'\n",
      " 'Prevalence of anemia among pregnant women (%)'\n",
      " 'Teenage mothers (% of women ages 15-19 who have had children or are currently pregnant)']\n"
     ]
    }
   ],
   "source": [
    "print(world[world['Indicator Name'].str.contains('pregnant', case = False)]['Indicator Name'].unique())"
   ]
  },
  {
   "cell_type": "code",
   "execution_count": 44,
   "id": "0ff7de9d",
   "metadata": {},
   "outputs": [
    {
     "data": {
      "text/html": [
       "<div>\n",
       "<style scoped>\n",
       "    .dataframe tbody tr th:only-of-type {\n",
       "        vertical-align: middle;\n",
       "    }\n",
       "\n",
       "    .dataframe tbody tr th {\n",
       "        vertical-align: top;\n",
       "    }\n",
       "\n",
       "    .dataframe thead th {\n",
       "        text-align: right;\n",
       "    }\n",
       "</style>\n",
       "<table border=\"1\" class=\"dataframe\">\n",
       "  <thead>\n",
       "    <tr style=\"text-align: right;\">\n",
       "      <th></th>\n",
       "      <th>Country Name</th>\n",
       "      <th>Indicator Name</th>\n",
       "      <th>2018</th>\n",
       "    </tr>\n",
       "  </thead>\n",
       "  <tbody>\n",
       "    <tr>\n",
       "      <th>85443</th>\n",
       "      <td>Nigeria</td>\n",
       "      <td>Pregnant women receiving prenatal care (%)</td>\n",
       "      <td>67.0</td>\n",
       "    </tr>\n",
       "  </tbody>\n",
       "</table>\n",
       "</div>"
      ],
      "text/plain": [
       "      Country Name                              Indicator Name  2018\n",
       "85443      Nigeria  Pregnant women receiving prenatal care (%)  67.0"
      ]
     },
     "execution_count": 44,
     "metadata": {},
     "output_type": "execute_result"
    }
   ],
   "source": [
    "(world.loc[(world['Indicator Name'] == 'Pregnant women receiving prenatal care (%)') &\n",
    "           (world['2018'] == 67), ['Country Name', 'Indicator Name', '2018']])"
   ]
  },
  {
   "cell_type": "markdown",
   "id": "b20ba9ab",
   "metadata": {},
   "source": [
    "<b>Answer: Nigeria</b>"
   ]
  },
  {
   "cell_type": "markdown",
   "id": "395b0a4e",
   "metadata": {},
   "source": [
    "### 18. How much is the prevalence of overweight adults in the United States, in 2016?"
   ]
  },
  {
   "cell_type": "markdown",
   "id": "7cd0b5ae",
   "metadata": {},
   "source": [
    "Meninjau `Indicator Name` sesuai keyword dari pertanyaan."
   ]
  },
  {
   "cell_type": "code",
   "execution_count": 45,
   "id": "f6911b94",
   "metadata": {},
   "outputs": [
    {
     "name": "stdout",
     "output_type": "stream",
     "text": [
      "['Prevalence of overweight (% of adults)'\n",
      " 'Prevalence of overweight (% of children under 5)'\n",
      " 'Prevalence of overweight (modeled estimate, % of children under 5)'\n",
      " 'Prevalence of overweight, female (% of children under 5)'\n",
      " 'Prevalence of overweight, female (% of female adults)'\n",
      " 'Prevalence of overweight, male (% of children under 5)'\n",
      " 'Prevalence of overweight, male (% of male adults)']\n"
     ]
    }
   ],
   "source": [
    "print(world[world['Indicator Name'].str.contains('overweight', case = False)]['Indicator Name'].unique())"
   ]
  },
  {
   "cell_type": "code",
   "execution_count": 46,
   "id": "2f4dffc3",
   "metadata": {},
   "outputs": [
    {
     "data": {
      "text/html": [
       "<div>\n",
       "<style scoped>\n",
       "    .dataframe tbody tr th:only-of-type {\n",
       "        vertical-align: middle;\n",
       "    }\n",
       "\n",
       "    .dataframe tbody tr th {\n",
       "        vertical-align: top;\n",
       "    }\n",
       "\n",
       "    .dataframe thead th {\n",
       "        text-align: right;\n",
       "    }\n",
       "</style>\n",
       "<table border=\"1\" class=\"dataframe\">\n",
       "  <thead>\n",
       "    <tr style=\"text-align: right;\">\n",
       "      <th></th>\n",
       "      <th>Country Name</th>\n",
       "      <th>Indicator Name</th>\n",
       "      <th>2016</th>\n",
       "    </tr>\n",
       "  </thead>\n",
       "  <tbody>\n",
       "    <tr>\n",
       "      <th>112800</th>\n",
       "      <td>United States</td>\n",
       "      <td>Prevalence of overweight (% of adults)</td>\n",
       "      <td>67.9</td>\n",
       "    </tr>\n",
       "  </tbody>\n",
       "</table>\n",
       "</div>"
      ],
      "text/plain": [
       "         Country Name                          Indicator Name  2016\n",
       "112800  United States  Prevalence of overweight (% of adults)  67.9"
      ]
     },
     "execution_count": 46,
     "metadata": {},
     "output_type": "execute_result"
    }
   ],
   "source": [
    "(world.loc[(world['Indicator Name'] == 'Prevalence of overweight (% of adults)') &\n",
    "           (world['Country Name'] == 'United States'), ['Country Name', 'Indicator Name', '2016']])"
   ]
  },
  {
   "cell_type": "markdown",
   "id": "c060824f",
   "metadata": {},
   "source": [
    "<b>Answer: 67.9%</b>"
   ]
  },
  {
   "cell_type": "markdown",
   "id": "3135addc",
   "metadata": {},
   "source": [
    "### 19. Which country is more likely to have TBC due to the lowest rate of immunization in 2019?"
   ]
  },
  {
   "cell_type": "markdown",
   "id": "dec31bea",
   "metadata": {},
   "source": [
    "Meninjau `Indicator Name` sesuai keyword dari pertanyaan."
   ]
  },
  {
   "cell_type": "code",
   "execution_count": 47,
   "id": "670291b5",
   "metadata": {},
   "outputs": [
    {
     "name": "stdout",
     "output_type": "stream",
     "text": [
      "['Immunization, BCG (% of one-year-old children)'\n",
      " 'Immunization, DPT (% of children ages 12-23 months)'\n",
      " 'Immunization, HepB3 (% of one-year-old children)'\n",
      " 'Immunization, Hib3 (% of children ages 12-23 months)'\n",
      " 'Immunization, measles (% of children ages 12-23 months)'\n",
      " 'Immunization, measles second dose (% of children by the nationally recommended age)'\n",
      " 'Immunization, Pol3 (% of one-year-old children)']\n"
     ]
    }
   ],
   "source": [
    "print(world[world['Indicator Name'].str.contains('immunization', case = False)]['Indicator Name'].unique())"
   ]
  },
  {
   "cell_type": "code",
   "execution_count": 48,
   "id": "e74c4d1c",
   "metadata": {},
   "outputs": [
    {
     "data": {
      "text/html": [
       "<div>\n",
       "<style scoped>\n",
       "    .dataframe tbody tr th:only-of-type {\n",
       "        vertical-align: middle;\n",
       "    }\n",
       "\n",
       "    .dataframe tbody tr th {\n",
       "        vertical-align: top;\n",
       "    }\n",
       "\n",
       "    .dataframe thead th {\n",
       "        text-align: right;\n",
       "    }\n",
       "</style>\n",
       "<table border=\"1\" class=\"dataframe\">\n",
       "  <thead>\n",
       "    <tr style=\"text-align: right;\">\n",
       "      <th></th>\n",
       "      <th>Country Name</th>\n",
       "      <th>Indicator Name</th>\n",
       "      <th>2019</th>\n",
       "    </tr>\n",
       "  </thead>\n",
       "  <tbody>\n",
       "    <tr>\n",
       "      <th>104207</th>\n",
       "      <td>Sweden</td>\n",
       "      <td>Immunization, BCG (% of one-year-old children)</td>\n",
       "      <td>25.0</td>\n",
       "    </tr>\n",
       "    <tr>\n",
       "      <th>99356</th>\n",
       "      <td>Somalia</td>\n",
       "      <td>Immunization, BCG (% of one-year-old children)</td>\n",
       "      <td>37.0</td>\n",
       "    </tr>\n",
       "    <tr>\n",
       "      <th>88772</th>\n",
       "      <td>Papua New Guinea</td>\n",
       "      <td>Immunization, BCG (% of one-year-old children)</td>\n",
       "      <td>52.0</td>\n",
       "    </tr>\n",
       "  </tbody>\n",
       "</table>\n",
       "</div>"
      ],
      "text/plain": [
       "            Country Name                                  Indicator Name  2019\n",
       "104207            Sweden  Immunization, BCG (% of one-year-old children)  25.0\n",
       "99356            Somalia  Immunization, BCG (% of one-year-old children)  37.0\n",
       "88772   Papua New Guinea  Immunization, BCG (% of one-year-old children)  52.0"
      ]
     },
     "execution_count": 48,
     "metadata": {},
     "output_type": "execute_result"
    }
   ],
   "source": [
    "(world[world['Indicator Name'].str.contains('Immunization, BCG')]\n",
    " .loc[:, ['Country Name', 'Indicator Name', '2019']].sort_values('2019').head(3))"
   ]
  },
  {
   "cell_type": "markdown",
   "id": "f261587b",
   "metadata": {},
   "source": [
    "<b>Answer: Sweden</b>"
   ]
  },
  {
   "cell_type": "markdown",
   "id": "64b63de5",
   "metadata": {},
   "source": [
    "### 20. Which country has the average age of female at first marriage lower than 20 years old in 2016?"
   ]
  },
  {
   "cell_type": "markdown",
   "id": "d80ad58a",
   "metadata": {},
   "source": [
    "Meninjau `Indicator Name` sesuai keyword dari pertanyaan."
   ]
  },
  {
   "cell_type": "code",
   "execution_count": 49,
   "id": "046b7fe6",
   "metadata": {},
   "outputs": [
    {
     "name": "stdout",
     "output_type": "stream",
     "text": [
      "['Age at first marriage, female' 'Age at first marriage, male']\n"
     ]
    }
   ],
   "source": [
    "print(world[world['Indicator Name'].str.contains('marriage', case = False)]['Indicator Name'].unique())"
   ]
  },
  {
   "cell_type": "code",
   "execution_count": 50,
   "id": "c595454a",
   "metadata": {},
   "outputs": [
    {
     "data": {
      "text/html": [
       "<div>\n",
       "<style scoped>\n",
       "    .dataframe tbody tr th:only-of-type {\n",
       "        vertical-align: middle;\n",
       "    }\n",
       "\n",
       "    .dataframe tbody tr th {\n",
       "        vertical-align: top;\n",
       "    }\n",
       "\n",
       "    .dataframe thead th {\n",
       "        text-align: right;\n",
       "    }\n",
       "</style>\n",
       "<table border=\"1\" class=\"dataframe\">\n",
       "  <thead>\n",
       "    <tr style=\"text-align: right;\">\n",
       "      <th></th>\n",
       "      <th>Country Name</th>\n",
       "      <th>Indicator Name</th>\n",
       "      <th>2016</th>\n",
       "    </tr>\n",
       "  </thead>\n",
       "  <tbody>\n",
       "    <tr>\n",
       "      <th>74093</th>\n",
       "      <td>Malawi</td>\n",
       "      <td>Age at first marriage, female</td>\n",
       "      <td>19.9</td>\n",
       "    </tr>\n",
       "  </tbody>\n",
       "</table>\n",
       "</div>"
      ],
      "text/plain": [
       "      Country Name                 Indicator Name  2016\n",
       "74093       Malawi  Age at first marriage, female  19.9"
      ]
     },
     "execution_count": 50,
     "metadata": {},
     "output_type": "execute_result"
    }
   ],
   "source": [
    "(world[world['Indicator Name'].str.contains('marriage, female')]\n",
    " .loc[world['2016'] < 20, ['Country Name', 'Indicator Name', '2016']])"
   ]
  },
  {
   "cell_type": "markdown",
   "id": "7c0bd46b",
   "metadata": {},
   "source": [
    "<b>Answer: Malawi</b>"
   ]
  },
  {
   "cell_type": "markdown",
   "id": "39038622",
   "metadata": {},
   "source": [
    "### 21. Which country has the highest lowest rate of mortality by road traffic injury in 2019?"
   ]
  },
  {
   "cell_type": "markdown",
   "id": "ea083646",
   "metadata": {},
   "source": [
    "Meninjau `Indicator Name` sesuai keyword dari pertanyaan."
   ]
  },
  {
   "cell_type": "code",
   "execution_count": 51,
   "id": "2a83a310",
   "metadata": {},
   "outputs": [
    {
     "name": "stdout",
     "output_type": "stream",
     "text": [
      "['Mortality caused by road traffic injury (per 100,000 people)'\n",
      " 'Mortality caused by road traffic injury, female (per 100,000 female population)'\n",
      " 'Mortality caused by road traffic injury, male (per 100,000 male population)']\n"
     ]
    }
   ],
   "source": [
    "print(world[world['Indicator Name'].str.contains('traffic', case = False)]['Indicator Name'].unique())"
   ]
  },
  {
   "cell_type": "code",
   "execution_count": 52,
   "id": "bc29b8ba",
   "metadata": {},
   "outputs": [
    {
     "data": {
      "text/html": [
       "<div>\n",
       "<style scoped>\n",
       "    .dataframe tbody tr th:only-of-type {\n",
       "        vertical-align: middle;\n",
       "    }\n",
       "\n",
       "    .dataframe tbody tr th {\n",
       "        vertical-align: top;\n",
       "    }\n",
       "\n",
       "    .dataframe thead th {\n",
       "        text-align: right;\n",
       "    }\n",
       "</style>\n",
       "<table border=\"1\" class=\"dataframe\">\n",
       "  <thead>\n",
       "    <tr style=\"text-align: right;\">\n",
       "      <th></th>\n",
       "      <th>Country Name</th>\n",
       "      <th>Indicator Name</th>\n",
       "      <th>2019</th>\n",
       "    </tr>\n",
       "  </thead>\n",
       "  <tbody>\n",
       "    <tr>\n",
       "      <th>24418</th>\n",
       "      <td>Antigua and Barbuda</td>\n",
       "      <td>Mortality caused by road traffic injury (per 1...</td>\n",
       "      <td>0.0</td>\n",
       "    </tr>\n",
       "    <tr>\n",
       "      <th>78220</th>\n",
       "      <td>Micronesia, Fed. Sts.</td>\n",
       "      <td>Mortality caused by road traffic injury (per 1...</td>\n",
       "      <td>0.2</td>\n",
       "    </tr>\n",
       "    <tr>\n",
       "      <th>75133</th>\n",
       "      <td>Maldives</td>\n",
       "      <td>Mortality caused by road traffic injury (per 1...</td>\n",
       "      <td>1.6</td>\n",
       "    </tr>\n",
       "  </tbody>\n",
       "</table>\n",
       "</div>"
      ],
      "text/plain": [
       "                Country Name  \\\n",
       "24418    Antigua and Barbuda   \n",
       "78220  Micronesia, Fed. Sts.   \n",
       "75133               Maldives   \n",
       "\n",
       "                                          Indicator Name  2019  \n",
       "24418  Mortality caused by road traffic injury (per 1...   0.0  \n",
       "78220  Mortality caused by road traffic injury (per 1...   0.2  \n",
       "75133  Mortality caused by road traffic injury (per 1...   1.6  "
      ]
     },
     "execution_count": 52,
     "metadata": {},
     "output_type": "execute_result"
    }
   ],
   "source": [
    "(world.loc[world['Indicator Name'] == 'Mortality caused by road traffic injury (per 100,000 people)',\n",
    "           ['Country Name', 'Indicator Name', '2019']].sort_values('2019').head(3))"
   ]
  },
  {
   "cell_type": "markdown",
   "id": "67fa27f8",
   "metadata": {},
   "source": [
    "<b>Answer: Antigua and Barbuda</b>"
   ]
  },
  {
   "cell_type": "markdown",
   "id": "383079d9",
   "metadata": {},
   "source": [
    "### 22. How much is the working age population of Qatar in 2020?"
   ]
  },
  {
   "cell_type": "markdown",
   "id": "30033b36",
   "metadata": {},
   "source": [
    "Meninjau `Indicator Name` sesuai keyword dari pertanyaan."
   ]
  },
  {
   "cell_type": "code",
   "execution_count": 53,
   "id": "291ce592",
   "metadata": {},
   "outputs": [
    {
     "name": "stdout",
     "output_type": "stream",
     "text": [
      "['Age dependency ratio (% of working-age population)']\n"
     ]
    }
   ],
   "source": [
    "print(world[world['Indicator Name'].str.contains('working', case = False)]['Indicator Name'].unique())"
   ]
  },
  {
   "cell_type": "code",
   "execution_count": 54,
   "id": "6309b69d",
   "metadata": {},
   "outputs": [
    {
     "data": {
      "text/html": [
       "<div>\n",
       "<style scoped>\n",
       "    .dataframe tbody tr th:only-of-type {\n",
       "        vertical-align: middle;\n",
       "    }\n",
       "\n",
       "    .dataframe tbody tr th {\n",
       "        vertical-align: top;\n",
       "    }\n",
       "\n",
       "    .dataframe thead th {\n",
       "        text-align: right;\n",
       "    }\n",
       "</style>\n",
       "<table border=\"1\" class=\"dataframe\">\n",
       "  <thead>\n",
       "    <tr style=\"text-align: right;\">\n",
       "      <th></th>\n",
       "      <th>Country Name</th>\n",
       "      <th>Indicator Name</th>\n",
       "      <th>2020</th>\n",
       "    </tr>\n",
       "  </thead>\n",
       "  <tbody>\n",
       "    <tr>\n",
       "      <th>91735</th>\n",
       "      <td>Qatar</td>\n",
       "      <td>Age dependency ratio (% of working-age populat...</td>\n",
       "      <td>18.103287</td>\n",
       "    </tr>\n",
       "  </tbody>\n",
       "</table>\n",
       "</div>"
      ],
      "text/plain": [
       "      Country Name                                     Indicator Name  \\\n",
       "91735        Qatar  Age dependency ratio (% of working-age populat...   \n",
       "\n",
       "            2020  \n",
       "91735  18.103287  "
      ]
     },
     "execution_count": 54,
     "metadata": {},
     "output_type": "execute_result"
    }
   ],
   "source": [
    "(world[world['Indicator Name'].str.contains('working')]\n",
    " .loc[world['Country Name'] == 'Qatar', ['Country Name', 'Indicator Name', '2020']])"
   ]
  },
  {
   "cell_type": "markdown",
   "id": "5504b0a0",
   "metadata": {},
   "source": [
    "<b>Answer: 18.103287%</b>"
   ]
  },
  {
   "cell_type": "markdown",
   "id": "4320b226",
   "metadata": {},
   "source": [
    "### 23. How much is the prevalence of overweight adults in Indonesia, in 2016?"
   ]
  },
  {
   "cell_type": "markdown",
   "id": "7a2464f8",
   "metadata": {},
   "source": [
    "Meninjau `Indicator Name` sesuai keyword dari pertanyaan."
   ]
  },
  {
   "cell_type": "code",
   "execution_count": 55,
   "id": "6c5ca1a6",
   "metadata": {},
   "outputs": [
    {
     "name": "stdout",
     "output_type": "stream",
     "text": [
      "['Prevalence of overweight (% of adults)'\n",
      " 'Prevalence of overweight (% of children under 5)'\n",
      " 'Prevalence of overweight (modeled estimate, % of children under 5)'\n",
      " 'Prevalence of overweight, female (% of children under 5)'\n",
      " 'Prevalence of overweight, female (% of female adults)'\n",
      " 'Prevalence of overweight, male (% of children under 5)'\n",
      " 'Prevalence of overweight, male (% of male adults)']\n"
     ]
    }
   ],
   "source": [
    "print(world[world['Indicator Name'].str.contains('overweight', case = False)]['Indicator Name'].unique())"
   ]
  },
  {
   "cell_type": "code",
   "execution_count": 56,
   "id": "44051cf5",
   "metadata": {},
   "outputs": [
    {
     "data": {
      "text/html": [
       "<div>\n",
       "<style scoped>\n",
       "    .dataframe tbody tr th:only-of-type {\n",
       "        vertical-align: middle;\n",
       "    }\n",
       "\n",
       "    .dataframe tbody tr th {\n",
       "        vertical-align: top;\n",
       "    }\n",
       "\n",
       "    .dataframe thead th {\n",
       "        text-align: right;\n",
       "    }\n",
       "</style>\n",
       "<table border=\"1\" class=\"dataframe\">\n",
       "  <thead>\n",
       "    <tr style=\"text-align: right;\">\n",
       "      <th></th>\n",
       "      <th>Country Name</th>\n",
       "      <th>Indicator Name</th>\n",
       "      <th>2016</th>\n",
       "    </tr>\n",
       "  </thead>\n",
       "  <tbody>\n",
       "    <tr>\n",
       "      <th>61644</th>\n",
       "      <td>Indonesia</td>\n",
       "      <td>Prevalence of overweight (% of adults)</td>\n",
       "      <td>28.2</td>\n",
       "    </tr>\n",
       "  </tbody>\n",
       "</table>\n",
       "</div>"
      ],
      "text/plain": [
       "      Country Name                          Indicator Name  2016\n",
       "61644    Indonesia  Prevalence of overweight (% of adults)  28.2"
      ]
     },
     "execution_count": 56,
     "metadata": {},
     "output_type": "execute_result"
    }
   ],
   "source": [
    "(world.loc[(world['Indicator Name'] == 'Prevalence of overweight (% of adults)') &\n",
    "           (world['Country Name'] == 'Indonesia'), ['Country Name', 'Indicator Name', '2016']])"
   ]
  },
  {
   "cell_type": "markdown",
   "id": "c41b2e61",
   "metadata": {},
   "source": [
    "<b>Answer: 28.2%</b>"
   ]
  },
  {
   "cell_type": "markdown",
   "id": "0ebae41d",
   "metadata": {},
   "source": [
    "### 24. Which country has the highest rate of literacy in 2020?"
   ]
  },
  {
   "cell_type": "markdown",
   "id": "babba29d",
   "metadata": {},
   "source": [
    "Meninjau `Indicator Name` sesuai keyword dari pertanyaan."
   ]
  },
  {
   "cell_type": "code",
   "execution_count": 57,
   "id": "3c113021",
   "metadata": {},
   "outputs": [
    {
     "name": "stdout",
     "output_type": "stream",
     "text": [
      "['Literacy rate, adult female (% of females ages 15 and above)'\n",
      " 'Literacy rate, adult male (% of males ages 15 and above)'\n",
      " 'Literacy rate, adult total (% of people ages 15 and above)'\n",
      " 'Literacy rate, youth male (% of males ages 15-24)'\n",
      " 'Literacy rate, youth total (% of people ages 15-24)']\n"
     ]
    }
   ],
   "source": [
    "print(world[world['Indicator Name'].str.contains('literacy', case = False)]['Indicator Name'].unique())"
   ]
  },
  {
   "cell_type": "code",
   "execution_count": 58,
   "id": "16a2629e",
   "metadata": {},
   "outputs": [
    {
     "data": {
      "text/html": [
       "<div>\n",
       "<style scoped>\n",
       "    .dataframe tbody tr th:only-of-type {\n",
       "        vertical-align: middle;\n",
       "    }\n",
       "\n",
       "    .dataframe tbody tr th {\n",
       "        vertical-align: top;\n",
       "    }\n",
       "\n",
       "    .dataframe thead th {\n",
       "        text-align: right;\n",
       "    }\n",
       "</style>\n",
       "<table border=\"1\" class=\"dataframe\">\n",
       "  <thead>\n",
       "    <tr style=\"text-align: right;\">\n",
       "      <th></th>\n",
       "      <th>Country Name</th>\n",
       "      <th>Indicator Name</th>\n",
       "      <th>2020</th>\n",
       "    </tr>\n",
       "  </thead>\n",
       "  <tbody>\n",
       "    <tr>\n",
       "      <th>25292</th>\n",
       "      <td>Armenia</td>\n",
       "      <td>Literacy rate, adult total (% of people ages 1...</td>\n",
       "      <td>99.788612</td>\n",
       "    </tr>\n",
       "    <tr>\n",
       "      <th>79535</th>\n",
       "      <td>Mongolia</td>\n",
       "      <td>Literacy rate, adult total (% of people ages 1...</td>\n",
       "      <td>99.183273</td>\n",
       "    </tr>\n",
       "    <tr>\n",
       "      <th>5006</th>\n",
       "      <td>Europe &amp; Central Asia (excluding high income)</td>\n",
       "      <td>Literacy rate, adult total (% of people ages 1...</td>\n",
       "      <td>99.077469</td>\n",
       "    </tr>\n",
       "  </tbody>\n",
       "</table>\n",
       "</div>"
      ],
      "text/plain": [
       "                                        Country Name  \\\n",
       "25292                                        Armenia   \n",
       "79535                                       Mongolia   \n",
       "5006   Europe & Central Asia (excluding high income)   \n",
       "\n",
       "                                          Indicator Name       2020  \n",
       "25292  Literacy rate, adult total (% of people ages 1...  99.788612  \n",
       "79535  Literacy rate, adult total (% of people ages 1...  99.183273  \n",
       "5006   Literacy rate, adult total (% of people ages 1...  99.077469  "
      ]
     },
     "execution_count": 58,
     "metadata": {},
     "output_type": "execute_result"
    }
   ],
   "source": [
    "(world[world['Indicator Name'].str.contains('Literacy rate, adult total')]\n",
    " .loc[:, ['Country Name', 'Indicator Name', '2020']].sort_values('2020', ascending = False).head(3))"
   ]
  },
  {
   "cell_type": "markdown",
   "id": "f519af23",
   "metadata": {},
   "source": [
    "<b>Answer: Armenia</b>"
   ]
  },
  {
   "cell_type": "markdown",
   "id": "8ae5c46f",
   "metadata": {},
   "source": [
    "### 25. How much is the average female age at first marriage in Indonesia, in 2017?"
   ]
  },
  {
   "cell_type": "markdown",
   "id": "fefa0431",
   "metadata": {},
   "source": [
    "Meninjau `Indicator Name` sesuai keyword dari pertanyaan."
   ]
  },
  {
   "cell_type": "code",
   "execution_count": 59,
   "id": "cce3ebf5",
   "metadata": {},
   "outputs": [
    {
     "name": "stdout",
     "output_type": "stream",
     "text": [
      "['Age at first marriage, female' 'Age at first marriage, male']\n"
     ]
    }
   ],
   "source": [
    "print(world[world['Indicator Name'].str.contains('marriage', case = False)]['Indicator Name'].unique())"
   ]
  },
  {
   "cell_type": "code",
   "execution_count": 60,
   "id": "278af085",
   "metadata": {},
   "outputs": [
    {
     "data": {
      "text/html": [
       "<div>\n",
       "<style scoped>\n",
       "    .dataframe tbody tr th:only-of-type {\n",
       "        vertical-align: middle;\n",
       "    }\n",
       "\n",
       "    .dataframe tbody tr th {\n",
       "        vertical-align: top;\n",
       "    }\n",
       "\n",
       "    .dataframe thead th {\n",
       "        text-align: right;\n",
       "    }\n",
       "</style>\n",
       "<table border=\"1\" class=\"dataframe\">\n",
       "  <thead>\n",
       "    <tr style=\"text-align: right;\">\n",
       "      <th></th>\n",
       "      <th>Country Name</th>\n",
       "      <th>Indicator Name</th>\n",
       "      <th>2017</th>\n",
       "    </tr>\n",
       "  </thead>\n",
       "  <tbody>\n",
       "    <tr>\n",
       "      <th>61304</th>\n",
       "      <td>Indonesia</td>\n",
       "      <td>Age at first marriage, female</td>\n",
       "      <td>22.4</td>\n",
       "    </tr>\n",
       "  </tbody>\n",
       "</table>\n",
       "</div>"
      ],
      "text/plain": [
       "      Country Name                 Indicator Name  2017\n",
       "61304    Indonesia  Age at first marriage, female  22.4"
      ]
     },
     "execution_count": 60,
     "metadata": {},
     "output_type": "execute_result"
    }
   ],
   "source": [
    "(world[world['Indicator Name'].str.contains('marriage, female')]\n",
    " .loc[world['Country Name'] == 'Indonesia', ['Country Name', 'Indicator Name', '2017']])"
   ]
  },
  {
   "cell_type": "markdown",
   "id": "89247ae6",
   "metadata": {},
   "source": [
    "<b>Answer: 22.4</b>"
   ]
  },
  {
   "cell_type": "code",
   "execution_count": null,
   "id": "9e356e15",
   "metadata": {},
   "outputs": [],
   "source": []
  }
 ],
 "metadata": {
  "kernelspec": {
   "display_name": "Python 3 (ipykernel)",
   "language": "python",
   "name": "python3"
  },
  "language_info": {
   "codemirror_mode": {
    "name": "ipython",
    "version": 3
   },
   "file_extension": ".py",
   "mimetype": "text/x-python",
   "name": "python",
   "nbconvert_exporter": "python",
   "pygments_lexer": "ipython3",
   "version": "3.10.7"
  }
 },
 "nbformat": 4,
 "nbformat_minor": 5
}
